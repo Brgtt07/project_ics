{
 "cells": [
  {
   "cell_type": "code",
   "execution_count": 57,
   "id": "dbaedba6-6576-4e32-9736-0fa70847c5f1",
   "metadata": {},
   "outputs": [],
   "source": [
    "import pandas as pd"
   ]
  },
  {
   "cell_type": "code",
   "execution_count": 58,
   "id": "1727b11e-74dc-4f35-b425-8e57342ed961",
   "metadata": {},
   "outputs": [],
   "source": [
    "df = pd.read_csv(\"/mnt/c/Users/bruno/Desktop/archive/Quality_of_Life.csv\")"
   ]
  },
  {
   "cell_type": "code",
   "execution_count": 59,
   "id": "73043185-1adc-456f-8319-143eec4ab1bb",
   "metadata": {},
   "outputs": [
    {
     "data": {
      "text/html": [
       "<div>\n",
       "<style scoped>\n",
       "    .dataframe tbody tr th:only-of-type {\n",
       "        vertical-align: middle;\n",
       "    }\n",
       "\n",
       "    .dataframe tbody tr th {\n",
       "        vertical-align: top;\n",
       "    }\n",
       "\n",
       "    .dataframe thead th {\n",
       "        text-align: right;\n",
       "    }\n",
       "</style>\n",
       "<table border=\"1\" class=\"dataframe\">\n",
       "  <thead>\n",
       "    <tr style=\"text-align: right;\">\n",
       "      <th></th>\n",
       "      <th>country</th>\n",
       "      <th>Purchasing Power Value</th>\n",
       "      <th>Purchasing Power Category</th>\n",
       "      <th>Safety Value</th>\n",
       "      <th>Safety Category</th>\n",
       "      <th>Health Care Value</th>\n",
       "      <th>Health Care Category</th>\n",
       "      <th>Climate Value</th>\n",
       "      <th>Climate Category</th>\n",
       "      <th>Cost of Living Value</th>\n",
       "      <th>Cost of Living Category</th>\n",
       "      <th>Property Price to Income Value</th>\n",
       "      <th>Property Price to Income Category</th>\n",
       "      <th>Traffic Commute Time Value</th>\n",
       "      <th>Traffic Commute Time Category</th>\n",
       "      <th>Pollution Value</th>\n",
       "      <th>Pollution Category</th>\n",
       "      <th>Quality of Life Value</th>\n",
       "      <th>Quality of Life Category</th>\n",
       "    </tr>\n",
       "  </thead>\n",
       "  <tbody>\n",
       "    <tr>\n",
       "      <th>0</th>\n",
       "      <td>Afghanistan</td>\n",
       "      <td>32.15</td>\n",
       "      <td>'Very Low'</td>\n",
       "      <td>25.33</td>\n",
       "      <td>'Low'</td>\n",
       "      <td>24.24</td>\n",
       "      <td>'Low'</td>\n",
       "      <td>0.00</td>\n",
       "      <td>NaN</td>\n",
       "      <td>21.08</td>\n",
       "      <td>'Very Low'</td>\n",
       "      <td>7.8</td>\n",
       "      <td>'Low'</td>\n",
       "      <td>56.17</td>\n",
       "      <td>'Very High'</td>\n",
       "      <td>84.44</td>\n",
       "      <td>'Very High'</td>\n",
       "      <td>0.0</td>\n",
       "      <td>NaN</td>\n",
       "    </tr>\n",
       "    <tr>\n",
       "      <th>1</th>\n",
       "      <td>Aland Islands</td>\n",
       "      <td>125.01</td>\n",
       "      <td>'Very High'</td>\n",
       "      <td>71.81</td>\n",
       "      <td>'High'</td>\n",
       "      <td>79.72</td>\n",
       "      <td>'High'</td>\n",
       "      <td>0.00</td>\n",
       "      <td>NaN</td>\n",
       "      <td>53.44</td>\n",
       "      <td>'Low'</td>\n",
       "      <td>5.33</td>\n",
       "      <td>'Low'</td>\n",
       "      <td>19.05</td>\n",
       "      <td>'Very Low'</td>\n",
       "      <td>18.05</td>\n",
       "      <td>'Very Low'</td>\n",
       "      <td>0.0</td>\n",
       "      <td>NaN</td>\n",
       "    </tr>\n",
       "    <tr>\n",
       "      <th>2</th>\n",
       "      <td>Albania</td>\n",
       "      <td>42.82</td>\n",
       "      <td>'Low'</td>\n",
       "      <td>55.52</td>\n",
       "      <td>'Moderate'</td>\n",
       "      <td>48.21</td>\n",
       "      <td>'Moderate'</td>\n",
       "      <td>86.43</td>\n",
       "      <td>'Very High'</td>\n",
       "      <td>40.85</td>\n",
       "      <td>'Low'</td>\n",
       "      <td>14.88</td>\n",
       "      <td>'High'</td>\n",
       "      <td>36.74</td>\n",
       "      <td>'Moderate'</td>\n",
       "      <td>77.25</td>\n",
       "      <td>'High'</td>\n",
       "      <td>': 104.16'</td>\n",
       "      <td>'Low'</td>\n",
       "    </tr>\n",
       "    <tr>\n",
       "      <th>3</th>\n",
       "      <td>Alderney</td>\n",
       "      <td>0.00</td>\n",
       "      <td>NaN</td>\n",
       "      <td>83.79</td>\n",
       "      <td>'Very High'</td>\n",
       "      <td>100.00</td>\n",
       "      <td>'Very High'</td>\n",
       "      <td>0.00</td>\n",
       "      <td>NaN</td>\n",
       "      <td>0.00</td>\n",
       "      <td>NaN</td>\n",
       "      <td>0.0</td>\n",
       "      <td>NaN</td>\n",
       "      <td>5.00</td>\n",
       "      <td>'Very Low'</td>\n",
       "      <td>1.72</td>\n",
       "      <td>'Very Low'</td>\n",
       "      <td>0.0</td>\n",
       "      <td>NaN</td>\n",
       "    </tr>\n",
       "    <tr>\n",
       "      <th>4</th>\n",
       "      <td>Algeria</td>\n",
       "      <td>27.60</td>\n",
       "      <td>'Very Low'</td>\n",
       "      <td>47.54</td>\n",
       "      <td>'Moderate'</td>\n",
       "      <td>54.43</td>\n",
       "      <td>'Moderate'</td>\n",
       "      <td>94.82</td>\n",
       "      <td>'Very High'</td>\n",
       "      <td>25.31</td>\n",
       "      <td>'Very Low'</td>\n",
       "      <td>21.7</td>\n",
       "      <td>'Very High'</td>\n",
       "      <td>45.09</td>\n",
       "      <td>'High'</td>\n",
       "      <td>63.87</td>\n",
       "      <td>'High'</td>\n",
       "      <td>': 98.83'</td>\n",
       "      <td>'Very Low'</td>\n",
       "    </tr>\n",
       "  </tbody>\n",
       "</table>\n",
       "</div>"
      ],
      "text/plain": [
       "         country  Purchasing Power Value Purchasing Power Category  \\\n",
       "0    Afghanistan                   32.15                'Very Low'   \n",
       "1  Aland Islands                  125.01               'Very High'   \n",
       "2        Albania                   42.82                     'Low'   \n",
       "3       Alderney                    0.00                       NaN   \n",
       "4        Algeria                   27.60                'Very Low'   \n",
       "\n",
       "   Safety Value Safety Category  Health Care Value Health Care Category  \\\n",
       "0         25.33           'Low'              24.24                'Low'   \n",
       "1         71.81          'High'              79.72               'High'   \n",
       "2         55.52      'Moderate'              48.21           'Moderate'   \n",
       "3         83.79     'Very High'             100.00          'Very High'   \n",
       "4         47.54      'Moderate'              54.43           'Moderate'   \n",
       "\n",
       "   Climate Value Climate Category  Cost of Living Value  \\\n",
       "0           0.00              NaN                 21.08   \n",
       "1           0.00              NaN                 53.44   \n",
       "2          86.43      'Very High'                 40.85   \n",
       "3           0.00              NaN                  0.00   \n",
       "4          94.82      'Very High'                 25.31   \n",
       "\n",
       "  Cost of Living Category Property Price to Income Value  \\\n",
       "0              'Very Low'                            7.8   \n",
       "1                   'Low'                           5.33   \n",
       "2                   'Low'                          14.88   \n",
       "3                     NaN                            0.0   \n",
       "4              'Very Low'                           21.7   \n",
       "\n",
       "  Property Price to Income Category  Traffic Commute Time Value  \\\n",
       "0                             'Low'                       56.17   \n",
       "1                             'Low'                       19.05   \n",
       "2                            'High'                       36.74   \n",
       "3                               NaN                        5.00   \n",
       "4                       'Very High'                       45.09   \n",
       "\n",
       "  Traffic Commute Time Category  Pollution Value Pollution Category  \\\n",
       "0                   'Very High'            84.44        'Very High'   \n",
       "1                    'Very Low'            18.05         'Very Low'   \n",
       "2                    'Moderate'            77.25             'High'   \n",
       "3                    'Very Low'             1.72         'Very Low'   \n",
       "4                        'High'            63.87             'High'   \n",
       "\n",
       "  Quality of Life Value Quality of Life Category  \n",
       "0                   0.0                      NaN  \n",
       "1                   0.0                      NaN  \n",
       "2            ': 104.16'                    'Low'  \n",
       "3                   0.0                      NaN  \n",
       "4             ': 98.83'               'Very Low'  "
      ]
     },
     "execution_count": 59,
     "metadata": {},
     "output_type": "execute_result"
    }
   ],
   "source": [
    "# checking the dataframe\n",
    "\n",
    "df.head()"
   ]
  },
  {
   "cell_type": "code",
   "execution_count": 60,
   "id": "5be00e58-ec87-4799-9f96-26b670a61060",
   "metadata": {},
   "outputs": [
    {
     "data": {
      "text/plain": [
       "236"
      ]
     },
     "execution_count": 60,
     "metadata": {},
     "output_type": "execute_result"
    }
   ],
   "source": [
    "df['country'].nunique()"
   ]
  },
  {
   "cell_type": "code",
   "execution_count": 61,
   "id": "aeac718d-63bf-422b-a32d-433feb789889",
   "metadata": {},
   "outputs": [
    {
     "data": {
      "text/plain": [
       "np.int64(236)"
      ]
     },
     "execution_count": 61,
     "metadata": {},
     "output_type": "execute_result"
    }
   ],
   "source": [
    "df['Health Care Value'].value_counts().sum()"
   ]
  },
  {
   "cell_type": "code",
   "execution_count": 62,
   "id": "7d72da44-bb12-49bc-b19b-db791e5550ea",
   "metadata": {},
   "outputs": [
    {
     "name": "stdout",
     "output_type": "stream",
     "text": [
      "<class 'pandas.core.series.Series'>\n",
      "RangeIndex: 236 entries, 0 to 235\n",
      "Series name: Health Care Value\n",
      "Non-Null Count  Dtype  \n",
      "--------------  -----  \n",
      "236 non-null    float64\n",
      "dtypes: float64(1)\n",
      "memory usage: 2.0 KB\n"
     ]
    }
   ],
   "source": [
    "df['Health Care Value'].info()"
   ]
  },
  {
   "cell_type": "code",
   "execution_count": 63,
   "id": "f958706a-008e-4982-acc8-1344b4111261",
   "metadata": {},
   "outputs": [
    {
     "data": {
      "text/plain": [
       "count    236.000000\n",
       "mean      54.731568\n",
       "std       20.607381\n",
       "min        0.000000\n",
       "25%       45.807500\n",
       "50%       57.150000\n",
       "75%       68.447500\n",
       "max      100.000000\n",
       "Name: Health Care Value, dtype: float64"
      ]
     },
     "execution_count": 63,
     "metadata": {},
     "output_type": "execute_result"
    }
   ],
   "source": [
    "df['Health Care Value'].describe()"
   ]
  },
  {
   "cell_type": "code",
   "execution_count": 64,
   "id": "5c4897bc-79a0-43c1-a3e1-89167fe68949",
   "metadata": {},
   "outputs": [],
   "source": [
    "# creating/updating the dataframe only with the countries and the health care index\n",
    "\n",
    "df_healthcare = df[['country', 'Health Care Value']]"
   ]
  },
  {
   "cell_type": "code",
   "execution_count": 65,
   "id": "71ef03d0-799b-45b5-88f5-6e8719c1ceed",
   "metadata": {},
   "outputs": [
    {
     "data": {
      "text/html": [
       "<div>\n",
       "<style scoped>\n",
       "    .dataframe tbody tr th:only-of-type {\n",
       "        vertical-align: middle;\n",
       "    }\n",
       "\n",
       "    .dataframe tbody tr th {\n",
       "        vertical-align: top;\n",
       "    }\n",
       "\n",
       "    .dataframe thead th {\n",
       "        text-align: right;\n",
       "    }\n",
       "</style>\n",
       "<table border=\"1\" class=\"dataframe\">\n",
       "  <thead>\n",
       "    <tr style=\"text-align: right;\">\n",
       "      <th></th>\n",
       "      <th>country</th>\n",
       "      <th>Health Care Value</th>\n",
       "    </tr>\n",
       "  </thead>\n",
       "  <tbody>\n",
       "    <tr>\n",
       "      <th>0</th>\n",
       "      <td>Afghanistan</td>\n",
       "      <td>24.24</td>\n",
       "    </tr>\n",
       "    <tr>\n",
       "      <th>1</th>\n",
       "      <td>Aland Islands</td>\n",
       "      <td>79.72</td>\n",
       "    </tr>\n",
       "    <tr>\n",
       "      <th>2</th>\n",
       "      <td>Albania</td>\n",
       "      <td>48.21</td>\n",
       "    </tr>\n",
       "    <tr>\n",
       "      <th>3</th>\n",
       "      <td>Alderney</td>\n",
       "      <td>100.00</td>\n",
       "    </tr>\n",
       "    <tr>\n",
       "      <th>4</th>\n",
       "      <td>Algeria</td>\n",
       "      <td>54.43</td>\n",
       "    </tr>\n",
       "  </tbody>\n",
       "</table>\n",
       "</div>"
      ],
      "text/plain": [
       "         country  Health Care Value\n",
       "0    Afghanistan              24.24\n",
       "1  Aland Islands              79.72\n",
       "2        Albania              48.21\n",
       "3       Alderney             100.00\n",
       "4        Algeria              54.43"
      ]
     },
     "execution_count": 65,
     "metadata": {},
     "output_type": "execute_result"
    }
   ],
   "source": [
    "df_healthcare.head()"
   ]
  },
  {
   "cell_type": "code",
   "execution_count": 66,
   "id": "5659d410-7370-4a10-83bd-256bed4f615c",
   "metadata": {},
   "outputs": [],
   "source": [
    "# renaming the columns\n",
    "\n",
    "df_healthcare = df_healthcare.rename(columns={'country': 'Country', 'Health Care Value': 'Health Care Index'})"
   ]
  },
  {
   "cell_type": "code",
   "execution_count": 67,
   "id": "e30fe1d0-4db8-4a17-98b2-a044286d0545",
   "metadata": {},
   "outputs": [
    {
     "data": {
      "text/html": [
       "<div>\n",
       "<style scoped>\n",
       "    .dataframe tbody tr th:only-of-type {\n",
       "        vertical-align: middle;\n",
       "    }\n",
       "\n",
       "    .dataframe tbody tr th {\n",
       "        vertical-align: top;\n",
       "    }\n",
       "\n",
       "    .dataframe thead th {\n",
       "        text-align: right;\n",
       "    }\n",
       "</style>\n",
       "<table border=\"1\" class=\"dataframe\">\n",
       "  <thead>\n",
       "    <tr style=\"text-align: right;\">\n",
       "      <th></th>\n",
       "      <th>Country</th>\n",
       "      <th>Health Care Index</th>\n",
       "    </tr>\n",
       "  </thead>\n",
       "  <tbody>\n",
       "    <tr>\n",
       "      <th>0</th>\n",
       "      <td>Afghanistan</td>\n",
       "      <td>24.24</td>\n",
       "    </tr>\n",
       "    <tr>\n",
       "      <th>1</th>\n",
       "      <td>Aland Islands</td>\n",
       "      <td>79.72</td>\n",
       "    </tr>\n",
       "    <tr>\n",
       "      <th>2</th>\n",
       "      <td>Albania</td>\n",
       "      <td>48.21</td>\n",
       "    </tr>\n",
       "    <tr>\n",
       "      <th>3</th>\n",
       "      <td>Alderney</td>\n",
       "      <td>100.00</td>\n",
       "    </tr>\n",
       "    <tr>\n",
       "      <th>4</th>\n",
       "      <td>Algeria</td>\n",
       "      <td>54.43</td>\n",
       "    </tr>\n",
       "  </tbody>\n",
       "</table>\n",
       "</div>"
      ],
      "text/plain": [
       "         Country  Health Care Index\n",
       "0    Afghanistan              24.24\n",
       "1  Aland Islands              79.72\n",
       "2        Albania              48.21\n",
       "3       Alderney             100.00\n",
       "4        Algeria              54.43"
      ]
     },
     "execution_count": 67,
     "metadata": {},
     "output_type": "execute_result"
    }
   ],
   "source": [
    "df_healthcare.head()"
   ]
  },
  {
   "cell_type": "code",
   "execution_count": 70,
   "id": "9ce1ac51-183b-4648-9f8f-dc61c2e7ef8c",
   "metadata": {},
   "outputs": [],
   "source": [
    "# saving the clean dataset\n",
    "\n",
    "df_healthcare.to_csv(\"healthcare_index.csv\", index=False)"
   ]
  },
  {
   "cell_type": "code",
   "execution_count": null,
   "id": "821c347e-b0bd-4d35-b623-8b9b47f4422a",
   "metadata": {},
   "outputs": [],
   "source": []
  }
 ],
 "metadata": {
  "kernelspec": {
   "display_name": "Python 3 (ipykernel)",
   "language": "python",
   "name": "python3"
  },
  "language_info": {
   "codemirror_mode": {
    "name": "ipython",
    "version": 3
   },
   "file_extension": ".py",
   "mimetype": "text/x-python",
   "name": "python",
   "nbconvert_exporter": "python",
   "pygments_lexer": "ipython3",
   "version": "3.10.6"
  }
 },
 "nbformat": 4,
 "nbformat_minor": 5
}
