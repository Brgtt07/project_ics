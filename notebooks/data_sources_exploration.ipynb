{
 "cells": [
  {
   "cell_type": "markdown",
   "metadata": {},
   "source": [
    "Let's try to build a dataset of country level data that includes data points for indicators of these factors for each country:"
   ]
  },
  {
   "cell_type": "markdown",
   "metadata": {},
   "source": [
    "- Coordinates of the country\n",
    "- Safety index (how safe it is to live there)\n",
    "- cost of living (an average for an expat that goes to live there)\n",
    "- healthcare quality (some kind of global index)\n",
    "- avg internet speed \n",
    "- weather (Avg yearly temperatures, variance, days of sunlight x year)"
   ]
  },
  {
   "cell_type": "markdown",
   "metadata": {},
   "source": [
    "# SAFETY DATA"
   ]
  },
  {
   "cell_type": "code",
   "execution_count": 2,
   "metadata": {},
   "outputs": [],
   "source": [
    "import pandas as pd"
   ]
  },
  {
   "cell_type": "code",
   "execution_count": 8,
   "metadata": {},
   "outputs": [],
   "source": [
    "safety_data_path = \"../raw_data/Alternative_sources_country_level/safety_index_data.csv\"\n",
    "safety_data = pd.read_csv(safety_data_path)"
   ]
  },
  {
   "cell_type": "code",
   "execution_count": 15,
   "metadata": {},
   "outputs": [
    {
     "name": "stdout",
     "output_type": "stream",
     "text": [
      "These countries that are recognized by the UN are missing from our safety index dataset:\n",
      "['Antigua and Barbuda', 'Benin', 'Bhutan', 'Burkina Faso', 'Burundi', 'Cabo Verde', 'Central African Republic', 'Chad', 'Comoros', 'Congo (Congo-Brazzaville)', 'Democratic Republic of the Congo', 'Djibouti', 'Dominica', 'Equatorial Guinea', 'Eritrea', 'Eswatini', 'Gabon', 'Gambia', 'Grenada', 'Guinea', 'Guinea-Bissau', 'Kiribati', 'Laos', 'Lesotho', 'Liberia', 'Liechtenstein', 'Madagascar', 'Malawi', 'Mali', 'Marshall Islands', 'Mauritania', 'Micronesia', 'Nauru', 'Niger', 'Palau', 'Saint Kitts and Nevis', 'Saint Lucia', 'Saint Vincent and the Grenadines', 'Samoa', 'San Marino', 'Sao Tome and Principe', 'Senegal', 'Seychelles', 'Sierra Leone', 'Solomon Islands', 'South Sudan', 'Suriname', 'Tajikistan', 'Timor-Leste', 'Togo', 'Tonga', 'Turkmenistan', 'Tuvalu', 'Vanuatu', 'Vatican City']\n",
      "\n",
      "although our dataset includes these extra countries:\n",
      "['Puerto Rico', 'Us Virgin Islands', 'Ivory Coast', 'Palestine', 'Kosovo (Disputed Territory)', 'Cayman Islands', 'Hong Kong (China)', 'Isle Of Man']\n"
     ]
    }
   ],
   "source": [
    "# Get the list of countries in the dataset\n",
    "countries_in_data = safety_data['Country'].tolist()\n",
    "\n",
    "# List of all countries in the world (195 countries)\n",
    "all_countries = [\n",
    "    \"Afghanistan\", \"Albania\", \"Algeria\", \"Andorra\", \"Angola\", \"Antigua and Barbuda\", \"Argentina\", \"Armenia\", \"Australia\",\n",
    "    \"Austria\", \"Azerbaijan\", \"Bahamas\", \"Bahrain\", \"Bangladesh\", \"Barbados\", \"Belarus\", \"Belgium\", \"Belize\", \"Benin\",\n",
    "    \"Bhutan\", \"Bolivia\", \"Bosnia and Herzegovina\", \"Botswana\", \"Brazil\", \"Brunei\", \"Bulgaria\", \"Burkina Faso\", \"Burundi\",\n",
    "    \"Cabo Verde\", \"Cambodia\", \"Cameroon\", \"Canada\", \"Central African Republic\", \"Chad\", \"Chile\", \"China\", \"Colombia\", \"Comoros\",\n",
    "    \"Congo (Congo-Brazzaville)\", \"Costa Rica\", \"Croatia\", \"Cuba\", \"Cyprus\", \"Czech Republic\", \"Democratic Republic of the Congo\",\n",
    "    \"Denmark\", \"Djibouti\", \"Dominica\", \"Dominican Republic\", \"Ecuador\", \"Egypt\", \"El Salvador\", \"Equatorial Guinea\", \"Eritrea\",\n",
    "    \"Estonia\", \"Eswatini\", \"Ethiopia\", \"Fiji\", \"Finland\", \"France\", \"Gabon\", \"Gambia\", \"Georgia\", \"Germany\", \"Ghana\", \"Greece\",\n",
    "    \"Grenada\", \"Guatemala\", \"Guinea\", \"Guinea-Bissau\", \"Guyana\", \"Haiti\", \"Honduras\", \"Hungary\", \"Iceland\", \"India\", \"Indonesia\",\n",
    "    \"Iran\", \"Iraq\", \"Ireland\", \"Israel\", \"Italy\", \"Jamaica\", \"Japan\", \"Jordan\", \"Kazakhstan\", \"Kenya\", \"Kiribati\", \"North Korea\",\n",
    "    \"South Korea\", \"Kuwait\", \"Kyrgyzstan\", \"Laos\", \"Latvia\", \"Lebanon\", \"Lesotho\", \"Liberia\", \"Libya\", \"Liechtenstein\", \"Lithuania\",\n",
    "    \"Luxembourg\", \"Madagascar\", \"Malawi\", \"Malaysia\", \"Maldives\", \"Mali\", \"Malta\", \"Marshall Islands\", \"Mauritania\", \"Mauritius\", \"Mexico\",\n",
    "    \"Micronesia\", \"Moldova\", \"Monaco\", \"Mongolia\", \"Montenegro\", \"Morocco\", \"Mozambique\", \"Myanmar\", \"Namibia\", \"Nauru\", \"Nepal\",\n",
    "    \"Netherlands\", \"New Zealand\", \"Nicaragua\", \"Niger\", \"Nigeria\", \"North Macedonia\", \"Norway\", \"Oman\", \"Pakistan\", \"Palau\", \"Panama\",\n",
    "    \"Papua New Guinea\", \"Paraguay\", \"Peru\", \"Philippines\", \"Poland\", \"Portugal\", \"Qatar\", \"Romania\", \"Russia\", \"Rwanda\", \"Saint Kitts and Nevis\",\n",
    "    \"Saint Lucia\", \"Saint Vincent and the Grenadines\", \"Samoa\", \"San Marino\", \"Sao Tome and Principe\", \"Saudi Arabia\", \"Senegal\", \"Serbia\",\n",
    "    \"Seychelles\", \"Sierra Leone\", \"Singapore\", \"Slovakia\", \"Slovenia\", \"Solomon Islands\", \"Somalia\", \"South Africa\", \"South Sudan\", \"Spain\",\n",
    "    \"Sri Lanka\", \"Sudan\", \"Suriname\", \"Sweden\", \"Switzerland\", \"Syria\", \"Taiwan\", \"Tajikistan\", \"Tanzania\", \"Thailand\", \"Timor-Leste\", \"Togo\",\n",
    "    \"Tonga\", \"Trinidad and Tobago\", \"Tunisia\", \"Turkey\", \"Turkmenistan\", \"Tuvalu\", \"Uganda\", \"Ukraine\", \"United Arab Emirates\", \"United Kingdom\",\n",
    "    \"United States\", \"Uruguay\", \"Uzbekistan\", \"Vanuatu\", \"Vatican City\", \"Venezuela\", \"Vietnam\", \"Yemen\", \"Zambia\", \"Zimbabwe\"\n",
    "]\n",
    "\n",
    "all_countries_lower = [country.lower() for country in all_countries]\n",
    "countries_in_data_lower = [country.lower() for country in countries_in_data]\n",
    "\n",
    "# Convert to sets for efficient operations\n",
    "set_all_lower = set(all_countries_lower)\n",
    "set_data_lower = set(countries_in_data_lower)\n",
    "\n",
    "# Elements in all_countries that are not in countries_in_data\n",
    "in_all_not_in_data_lower = set_all_lower - set_data_lower\n",
    "\n",
    "# Elements in countries_in_data that are not in all_countries\n",
    "in_data_not_in_all_lower = set_data_lower - set_all_lower\n",
    "\n",
    "# Map back to original case for display (using the first list where each entry appears)\n",
    "in_all_not_in_data_original = [country for country in all_countries \n",
    "                              if country.lower() in in_all_not_in_data_lower]\n",
    "\n",
    "in_data_not_in_all_original = [country for country in countries_in_data \n",
    "                              if country.lower() in in_data_not_in_all_lower]\n",
    "\n",
    "print(\"These countries that are recognized by the UN are missing from our safety index dataset:\")\n",
    "print(in_all_not_in_data_original)\n",
    "\n",
    "print(\"\\nalthough our dataset includes these extra countries:\")\n",
    "print(in_data_not_in_all_original)"
   ]
  },
  {
   "cell_type": "code",
   "execution_count": null,
   "metadata": {},
   "outputs": [],
   "source": []
  }
 ],
 "metadata": {
  "kernelspec": {
   "display_name": "project_ics",
   "language": "python",
   "name": "python3"
  },
  "language_info": {
   "codemirror_mode": {
    "name": "ipython",
    "version": 3
   },
   "file_extension": ".py",
   "mimetype": "text/x-python",
   "name": "python",
   "nbconvert_exporter": "python",
   "pygments_lexer": "ipython3",
   "version": "3.10.6"
  }
 },
 "nbformat": 4,
 "nbformat_minor": 2
}
