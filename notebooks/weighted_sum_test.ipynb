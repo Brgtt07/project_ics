{
 "cells": [
  {
   "cell_type": "markdown",
   "metadata": {},
   "source": [
    "### Goals of this notebook\n",
    "\n",
    "first, we need to define clearly how the user inputs will look like,\n",
    " \n",
    "then, we will be able to code a function that takes the user inputs and returns a pandas df with an extra [\"country_user_score\"] column\n",
    "\n",
    "but before coding the actual python scripts, it's easier to just simulate that flow in a notebook"
   ]
  },
  {
   "cell_type": "markdown",
   "metadata": {},
   "source": [
    "user inputs structure:\n",
    "1. climate\n",
    "    climate preference -> selects category between [cold, warm, hot]\n",
    "    climate - how important is this for you? -> slider\n",
    "2. safety\n",
    "    safety -> [average, safe, very safe]\n",
    "    safety - how important is this for you? -> slider\n",
    "3. healthcare\n",
    "    healthcare quality -> [average, good, great]\n",
    "    healthcare quality - how important is this for you? -> slider\n",
    "4. cost of living\n",
    "    Monthly cost preference -> [cheap, medium, expensive]\n",
    "    cost of living - how important is this for you? -> slider\n",
    "    optional: filter by a monthly cost budget -> give a max monthly budget in dollars\n",
    "5. Internet speed\n",
    "    Internet speed preference -> [medium, fast, very fast]\n",
    "    internet speed - how important is this for you? -> slider\n",
    "\n",
    "\n",
    "------\n",
    "\n",
    "*structure of the API endpoint*\n",
    "1. user sends get request to the API with user inputs as parameters\n",
    "2. API function calls the \"process_user_input\" class / module\n",
    "3. \"process_user_input\" module takes user inputs and processes to make them \"understandable\" to the dataset data and ready to insert in the weighted sum\n",
    "4. API function calls the \"weighted_sum\" class / module\n",
    "5. \"weighted_sum\" class / module takes the numerical inputs and calculates the the [\"country_user_score\"] column for each country - returns the pandas df\n",
    "6. lastly, API function returns the head(5) of the df sorted by country_user_score"
   ]
  },
  {
   "cell_type": "markdown",
   "metadata": {
    "vscode": {
     "languageId": "plaintext"
    }
   },
   "source": [
    "## Pipeline"
   ]
  },
  {
   "cell_type": "code",
   "execution_count": null,
   "metadata": {
    "vscode": {
     "languageId": "plaintext"
    }
   },
   "outputs": [],
   "source": []
  }
 ],
 "metadata": {
  "language_info": {
   "name": "python"
  }
 },
 "nbformat": 4,
 "nbformat_minor": 2
}
