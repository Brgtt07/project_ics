{
 "cells": [
  {
   "cell_type": "markdown",
   "metadata": {},
   "source": [
    "\n",
    "\n",
    "first, we need to define clearly how the user inputs will look like,\n",
    " \n",
    "then, we will be able to code a function that takes the user inputs and returns a database that"
   ]
  }
 ],
 "metadata": {
  "language_info": {
   "name": "python"
  }
 },
 "nbformat": 4,
 "nbformat_minor": 2
}
