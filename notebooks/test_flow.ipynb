{
 "cells": [
  {
   "cell_type": "code",
   "execution_count": 1,
   "metadata": {},
   "outputs": [],
   "source": [
    "import sys\n",
    "import os\n",
    "# Add the directory containing 'package_folder' to the Python path\n",
    "sys.path.append(os.path.abspath('..'))\n"
   ]
  },
  {
   "cell_type": "code",
   "execution_count": 2,
   "metadata": {},
   "outputs": [],
   "source": [
    "# The package_folder is a package, so we don't need to import it directly.\n",
    "# Instead, we will import the specific modules we need.\n",
    "from package_folder.scaling_pipeline import transform_user_inputs  # Make sure these are implemented\n",
    "from package_folder.weighted_sum import weighted_sum  # Make sure these are implemented"
   ]
  },
  {
   "cell_type": "code",
   "execution_count": 3,
   "metadata": {},
   "outputs": [],
   "source": [
    "#real example of user inputs passed fron the frontend\n",
    "user_inputs = {\n",
    "\"climate_preference\":\"hot\",\n",
    "\"climate_importance\":2,\n",
    "\"cost_of_living_importance\":3,\n",
    "\"max_monthly_budget\":2000,\n",
    "\"healthcare_importance\":4,\n",
    "\"safety_importance\":5,\n",
    "\"internet_speed_importance\":6}"
   ]
  },
  {
   "cell_type": "code",
   "execution_count": 4,
   "metadata": {},
   "outputs": [
    {
     "name": "stdout",
     "output_type": "stream",
     "text": [
      "Pipeline steps: {'column_transformer': ColumnTransformer(transformers=[('minmax', MinMaxScaler(),\n",
      "                                 Index(['average_monthly_cost_$', 'average_yearly_temperature',\n",
      "       'internet_speed_mbps', 'safety_index', 'Healthcare Index'],\n",
      "      dtype='object'))])}\n"
     ]
    }
   ],
   "source": [
    "import pickle\n",
    "# After loading the pipeline\n",
    "with open('../models/scaling_pipeline.pkl', 'rb') as f:\n",
    "    pipe = pickle.load(f)\n",
    "        \n",
    "    # Inspect pipeline components\n",
    "print(\"Pipeline steps:\", pipe.named_steps)\n",
    "    # If it's a ColumnTransformer, check the columns it expects\n",
    "if hasattr(pipe, 'transformers_'):\n",
    "    for name, transformer, columns in pipe.transformers_:\n",
    "        print(f\"Transformer '{name}' applied to columns: {columns}\")"
   ]
  },
  {
   "cell_type": "code",
   "execution_count": 5,
   "metadata": {},
   "outputs": [
    {
     "data": {
      "text/plain": [
       "{'climate_preference': 0.7702265372168284,\n",
       " 'cost_of_living_preference': 0.053697885877613705,\n",
       " 'healthcare_preference': 1.0,\n",
       " 'safety_preference': 1.0,\n",
       " 'internet_speed_preference': 0.9999123063431746,\n",
       " 'climate_importance': 0.2,\n",
       " 'cost_of_living_importance': 0.3,\n",
       " 'healthcare_importance': 0.4,\n",
       " 'safety_importance': 0.5,\n",
       " 'internet_speed_importance': 0.6}"
      ]
     },
     "execution_count": 5,
     "metadata": {},
     "output_type": "execute_result"
    }
   ],
   "source": [
    "processed_inputs = transform_user_inputs(user_inputs)\n",
    "processed_inputs"
   ]
  },
  {
   "cell_type": "code",
   "execution_count": 6,
   "metadata": {},
   "outputs": [
    {
     "ename": "IndentationError",
     "evalue": "unexpected indent (2735912255.py, line 4)",
     "output_type": "error",
     "traceback": [
      "\u001b[0;36m  Cell \u001b[0;32mIn[6], line 4\u001b[0;36m\u001b[0m\n\u001b[0;31m    top_5 = result_df.sort_values(by=\"country_user_score\", ascending=False).head(5)\u001b[0m\n\u001b[0m    ^\u001b[0m\n\u001b[0;31mIndentationError\u001b[0m\u001b[0;31m:\u001b[0m unexpected indent\n"
     ]
    }
   ],
   "source": [
    "result_df = weighted_sum(processed_inputs)\n",
    "\n",
    "    # Step 3: Return top 5 countries\n",
    "    top_5 = result_df.sort_values(by=\"country_user_score\", ascending=False).head(5)\n",
    "\n",
    "    return top_5.to_dict(orient=\"records\")"
   ]
  }
 ],
 "metadata": {
  "kernelspec": {
   "display_name": "project_ics",
   "language": "python",
   "name": "python3"
  },
  "language_info": {
   "codemirror_mode": {
    "name": "ipython",
    "version": 3
   },
   "file_extension": ".py",
   "mimetype": "text/x-python",
   "name": "python",
   "nbconvert_exporter": "python",
   "pygments_lexer": "ipython3",
   "version": "3.10.6"
  }
 },
 "nbformat": 4,
 "nbformat_minor": 2
}
