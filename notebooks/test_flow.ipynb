{
 "cells": [
  {
   "cell_type": "code",
   "execution_count": 1,
   "metadata": {},
   "outputs": [],
   "source": [
    "import sys\n",
    "import os\n",
    "# Add the directory containing 'package_folder' to the Python path\n",
    "sys.path.append(os.path.abspath('..'))\n"
   ]
  },
  {
   "cell_type": "code",
   "execution_count": 2,
   "metadata": {},
   "outputs": [],
   "source": [
    "# The package_folder is a package, so we don't need to import it directly.\n",
    "# Instead, we will import the specific modules we need.\n",
    "from package_folder.scaling_pipeline import transform_user_inputs  # Make sure these are implemented\n",
    "from package_folder.weighted_sum import weighted_sum  # Make sure these are implemented"
   ]
  },
  {
   "cell_type": "code",
   "execution_count": 3,
   "metadata": {},
   "outputs": [],
   "source": [
    "#real example of user inputs passed fron the frontend\n",
    "user_inputs = {\n",
    "\"climate_preference\":\"hot\",\n",
    "\"climate_importance\":2,\n",
    "\"cost_of_living_importance\":3,\n",
    "\"max_monthly_budget\":2000,\n",
    "\"healthcare_importance\":4,\n",
    "\"safety_importance\":5,\n",
    "\"internet_speed_importance\":6}"
   ]
  },
  {
   "cell_type": "code",
   "execution_count": 4,
   "metadata": {},
   "outputs": [
    {
     "name": "stdout",
     "output_type": "stream",
     "text": [
      "Pipeline steps: {'column_transformer': ColumnTransformer(transformers=[('minmax', MinMaxScaler(),\n",
      "                                 Index(['average_monthly_cost_$', 'average_yearly_temperature',\n",
      "       'internet_speed_mbps', 'safety_index', 'Healthcare Index'],\n",
      "      dtype='object'))])}\n"
     ]
    }
   ],
   "source": [
    "import pickle\n",
    "# After loading the pipeline\n",
    "with open('../models/scaling_pipeline.pkl', 'rb') as f:\n",
    "    pipe = pickle.load(f)\n",
    "        \n",
    "    # Inspect pipeline components\n",
    "print(\"Pipeline steps:\", pipe.named_steps)\n",
    "    # If it's a ColumnTransformer, check the columns it expects\n",
    "if hasattr(pipe, 'transformers_'):\n",
    "    for name, transformer, columns in pipe.transformers_:\n",
    "        print(f\"Transformer '{name}' applied to columns: {columns}\")"
   ]
  },
  {
   "cell_type": "code",
   "execution_count": 5,
   "metadata": {},
   "outputs": [
    {
     "data": {
      "text/plain": [
       "{'climate_preference': 0.7702265372168284,\n",
       " 'cost_of_living_preference': 0.053697885877613705,\n",
       " 'healthcare_preference': 1.0,\n",
       " 'safety_preference': 1.0,\n",
       " 'internet_speed_preference': 0.9999123063431746,\n",
       " 'climate_importance': 0.2,\n",
       " 'cost_of_living_importance': 0.3,\n",
       " 'healthcare_importance': 0.4,\n",
       " 'safety_importance': 0.5,\n",
       " 'internet_speed_importance': 0.6}"
      ]
     },
     "execution_count": 5,
     "metadata": {},
     "output_type": "execute_result"
    }
   ],
   "source": [
    "processed_inputs = transform_user_inputs(user_inputs)\n",
    "processed_inputs"
   ]
  },
  {
   "cell_type": "code",
   "execution_count": 8,
   "metadata": {},
   "outputs": [],
   "source": [
    "import pandas as pd\n",
    "data = pd.read_csv(\"../raw_data/merged_country_level/scaled_merged_data_after_imputation.csv\")\n",
    "result_df = weighted_sum(data, processed_inputs)\n"
   ]
  },
  {
   "cell_type": "code",
   "execution_count": 9,
   "metadata": {},
   "outputs": [
    {
     "data": {
      "text/html": [
       "<div>\n",
       "<style scoped>\n",
       "    .dataframe tbody tr th:only-of-type {\n",
       "        vertical-align: middle;\n",
       "    }\n",
       "\n",
       "    .dataframe tbody tr th {\n",
       "        vertical-align: top;\n",
       "    }\n",
       "\n",
       "    .dataframe thead th {\n",
       "        text-align: right;\n",
       "    }\n",
       "</style>\n",
       "<table border=\"1\" class=\"dataframe\">\n",
       "  <thead>\n",
       "    <tr style=\"text-align: right;\">\n",
       "      <th></th>\n",
       "      <th>country</th>\n",
       "      <th>country_score</th>\n",
       "    </tr>\n",
       "  </thead>\n",
       "  <tbody>\n",
       "    <tr>\n",
       "      <th>0</th>\n",
       "      <td>singapore</td>\n",
       "      <td>0.897830</td>\n",
       "    </tr>\n",
       "    <tr>\n",
       "      <th>1</th>\n",
       "      <td>united arab emirates</td>\n",
       "      <td>0.880842</td>\n",
       "    </tr>\n",
       "    <tr>\n",
       "      <th>2</th>\n",
       "      <td>hong kong</td>\n",
       "      <td>0.854372</td>\n",
       "    </tr>\n",
       "    <tr>\n",
       "      <th>3</th>\n",
       "      <td>taiwan</td>\n",
       "      <td>0.846616</td>\n",
       "    </tr>\n",
       "    <tr>\n",
       "      <th>4</th>\n",
       "      <td>japan</td>\n",
       "      <td>0.784453</td>\n",
       "    </tr>\n",
       "  </tbody>\n",
       "</table>\n",
       "</div>"
      ],
      "text/plain": [
       "                country  country_score\n",
       "0             singapore       0.897830\n",
       "1  united arab emirates       0.880842\n",
       "2             hong kong       0.854372\n",
       "3                taiwan       0.846616\n",
       "4                 japan       0.784453"
      ]
     },
     "execution_count": 9,
     "metadata": {},
     "output_type": "execute_result"
    }
   ],
   "source": [
    "result_df"
   ]
  },
  {
   "cell_type": "code",
   "execution_count": 17,
   "metadata": {},
   "outputs": [
    {
     "data": {
      "text/plain": [
       "[{'country': 'singapore', 'country_score': 0.8978296204706148},\n",
       " {'country': 'united arab emirates', 'country_score': 0.8808420792797913},\n",
       " {'country': 'hong kong', 'country_score': 0.854371564744755},\n",
       " {'country': 'taiwan', 'country_score': 0.84661585175841},\n",
       " {'country': 'japan', 'country_score': 0.7844529538547678}]"
      ]
     },
     "execution_count": 17,
     "metadata": {},
     "output_type": "execute_result"
    }
   ],
   "source": [
    "def recommend_countries(user_inputs):\n",
    "    \n",
    "    # Step 1: Convert user inputs to numerical weights\n",
    "    processed_inputs = transform_user_inputs(user_inputs)\n",
    "\n",
    "    # Step 2: Score countries based on user preferences\n",
    "    data = pd.read_csv(\"../raw_data/merged_country_level/scaled_merged_data_after_imputation.csv\")\n",
    "    result_df = weighted_sum(data, processed_inputs)\n",
    "\n",
    "    # Step 3: Return top 5 countries (currently the weighted sum is already returning the top 5 countries sorted)\n",
    "    #top_5 = result_df.sort_values(by=\"country_user_score\", ascending=False).head(5)\n",
    "\n",
    "    return result_df.to_dict(orient=\"records\")\n",
    "\n",
    "recommend_countries(user_inputs)"
   ]
  },
  {
   "cell_type": "code",
   "execution_count": null,
   "metadata": {},
   "outputs": [],
   "source": []
  }
 ],
 "metadata": {
  "kernelspec": {
   "display_name": "project_ics",
   "language": "python",
   "name": "python3"
  },
  "language_info": {
   "codemirror_mode": {
    "name": "ipython",
    "version": 3
   },
   "file_extension": ".py",
   "mimetype": "text/x-python",
   "name": "python",
   "nbconvert_exporter": "python",
   "pygments_lexer": "ipython3",
   "version": "3.10.6"
  }
 },
 "nbformat": 4,
 "nbformat_minor": 2
}
