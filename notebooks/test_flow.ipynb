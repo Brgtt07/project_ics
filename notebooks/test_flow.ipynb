{
 "cells": [
  {
   "cell_type": "code",
   "execution_count": 1,
   "metadata": {},
   "outputs": [],
   "source": [
    "import sys\n",
    "import os\n",
    "# Add the directory containing 'package_folder' to the Python path\n",
    "sys.path.append(os.path.abspath('..'))\n"
   ]
  },
  {
   "cell_type": "code",
   "execution_count": 2,
   "metadata": {},
   "outputs": [],
   "source": [
    "# The package_folder is a package, so we don't need to import it directly.\n",
    "# Instead, we will import the specific modules we need.\n",
    "from package_folder.scaling_pipeline import transform_user_inputs  # Make sure these are implemented\n",
    "from package_folder.weighted_sum import weighted_sum  # Make sure these are implemented"
   ]
  },
  {
   "cell_type": "code",
   "execution_count": 3,
   "metadata": {},
   "outputs": [],
   "source": [
    "#real example of user inputs passed fron the frontend\n",
    "user_inputs = {\n",
    "\"climate_preference\":\"hot\",\n",
    "\"climate_importance\":2,\n",
    "\"cost_of_living_importance\":3,\n",
    "\"max_monthly_budget\":2000,\n",
    "\"healthcare_importance\":4,\n",
    "\"safety_importance\":5,\n",
    "\"internet_speed_importance\":6}"
   ]
  },
  {
   "cell_type": "code",
   "execution_count": null,
   "metadata": {},
   "outputs": [],
   "source": [
    "import pickle\n",
    "# After loading the pipeline\n",
    "with open('../models/scaling_pipeline.pkl', 'rb') as f:\n",
    "    pipe = pickle.load(f)\n",
    "        \n",
    "    # Inspect pipeline components\n",
    "print(\"Pipeline steps:\", pipe.named_steps)\n",
    "    # If it's a ColumnTransformer, check the columns it expects\n",
    "if hasattr(pipe, 'transformers_'):\n",
    "    for name, transformer, columns in pipe.transformers_:\n",
    "        print(f\"Transformer '{name}' applied to columns: {columns}\")"
   ]
  },
  {
   "cell_type": "code",
   "execution_count": null,
   "metadata": {},
   "outputs": [],
   "source": [
    "processed_inputs = transform_user_inputs(user_inputs)\n",
    "processed_inputs"
   ]
  },
  {
   "cell_type": "code",
   "execution_count": 8,
   "metadata": {},
   "outputs": [],
   "source": [
    "import pandas as pd\n",
    "data = pd.read_csv(\"../raw_data/merged_country_level/scaled_merged_data_after_imputation.csv\")\n",
    "result_df = weighted_sum(data, processed_inputs)\n"
   ]
  },
  {
   "cell_type": "code",
   "execution_count": null,
   "metadata": {},
   "outputs": [],
   "source": [
    "result_df"
   ]
  },
  {
   "cell_type": "code",
   "execution_count": null,
   "metadata": {},
   "outputs": [],
   "source": [
    "def recommend_countries(user_inputs):\n",
    "    \n",
    "    # Step 1: Convert user inputs to numerical weights\n",
    "    processed_inputs = transform_user_inputs(user_inputs)\n",
    "\n",
    "    # Step 2: Score countries based on user preferences\n",
    "    data = pd.read_csv(\"../raw_data/merged_country_level/scaled_merged_data_after_imputation.csv\")\n",
    "    result_df = weighted_sum(data, processed_inputs)\n",
    "\n",
    "    # Step 3: Return top 5 countries (currently the weighted sum is already returning the top 5 countries sorted)\n",
    "    #top_5 = result_df.sort_values(by=\"country_user_score\", ascending=False).head(5)\n",
    "\n",
    "    return result_df.to_dict(orient=\"records\")\n",
    "\n",
    "recommend_countries(user_inputs)"
   ]
  },
  {
   "cell_type": "code",
   "execution_count": 2,
   "metadata": {},
   "outputs": [
    {
     "name": "stdout",
     "output_type": "stream",
     "text": [
      "Expected feature names: ['average_monthly_cost_$' 'average_yearly_temperature'\n",
      " 'internet_speed_mbps' 'safety_index' 'Healthcare Index']\n"
     ]
    }
   ],
   "source": [
    "import pickle\n",
    "\n",
    "# Load the pipeline\n",
    "with open('../models/scaling_pipeline.pkl', 'rb') as file:\n",
    "    pipeline = pickle.load(file)\n",
    "\n",
    "# Check the expected feature names\n",
    "if hasattr(pipeline, 'named_steps'):\n",
    "    # If the pipeline has named steps, you can check the last step\n",
    "    last_step = list(pipeline.named_steps.values())[-1]\n",
    "    if hasattr(last_step, 'feature_names_in_'):\n",
    "        print(\"Expected feature names:\", last_step.feature_names_in_)\n",
    "    else:\n",
    "        print(\"The last step does not have feature names.\")\n",
    "else:\n",
    "    print(\"The pipeline does not have named steps.\")"
   ]
  },
  {
   "cell_type": "code",
   "execution_count": 3,
   "metadata": {},
   "outputs": [
    {
     "name": "stdout",
     "output_type": "stream",
     "text": [
      "Expected feature names: ['Unnamed: 0' 'average_monthly_cost_$' 'average_yearly_temperature'\n",
      " 'internet_speed_mbps' 'safety_index' 'Healthcare Index']\n"
     ]
    }
   ],
   "source": [
    "import pickle\n",
    "\n",
    "# Load the pipeline\n",
    "with open('../models/v2_scaler_pipeline.pkl', 'rb') as file:\n",
    "    pipeline = pickle.load(file)\n",
    "\n",
    "# Check the expected feature names\n",
    "if hasattr(pipeline, 'named_steps'):\n",
    "    # If the pipeline has named steps, you can check the last step\n",
    "    last_step = list(pipeline.named_steps.values())[-1]\n",
    "    if hasattr(last_step, 'feature_names_in_'):\n",
    "        print(\"Expected feature names:\", last_step.feature_names_in_)\n",
    "    else:\n",
    "        print(\"The last step does not have feature names.\")\n",
    "else:\n",
    "    print(\"The pipeline does not have named steps.\")"
   ]
  },
  {
   "cell_type": "code",
   "execution_count": 5,
   "metadata": {},
   "outputs": [
    {
     "ename": "KeyError",
     "evalue": "'column_transformer'",
     "output_type": "error",
     "traceback": [
      "\u001b[0;31m---------------------------------------------------------------------------\u001b[0m",
      "\u001b[0;31mKeyError\u001b[0m                                  Traceback (most recent call last)",
      "Cell \u001b[0;32mIn[5], line 25\u001b[0m\n\u001b[1;32m     22\u001b[0m     \u001b[38;5;28mprint\u001b[39m(\u001b[38;5;124mf\u001b[39m\u001b[38;5;124m\"\u001b[39m\u001b[38;5;124mInput Budget: \u001b[39m\u001b[38;5;132;01m{\u001b[39;00mbudget_input\u001b[38;5;132;01m}\u001b[39;00m\u001b[38;5;124m, Scaled Budget: \u001b[39m\u001b[38;5;132;01m{\u001b[39;00mscaled_budget\u001b[38;5;132;01m}\u001b[39;00m\u001b[38;5;124m\"\u001b[39m)\n\u001b[1;32m     24\u001b[0m \u001b[38;5;66;03m# Test with a sample budget\u001b[39;00m\n\u001b[0;32m---> 25\u001b[0m \u001b[43mtest_scaling\u001b[49m\u001b[43m(\u001b[49m\u001b[38;5;241;43m1000\u001b[39;49m\u001b[43m)\u001b[49m  \u001b[38;5;66;03m# Replace 1000 with any budget value you want to test\u001b[39;00m\n",
      "Cell \u001b[0;32mIn[5], line 10\u001b[0m, in \u001b[0;36mtest_scaling\u001b[0;34m(budget_input)\u001b[0m\n\u001b[1;32m      8\u001b[0m \u001b[38;5;28;01mdef\u001b[39;00m\u001b[38;5;250m \u001b[39m\u001b[38;5;21mtest_scaling\u001b[39m(budget_input):\n\u001b[1;32m      9\u001b[0m     \u001b[38;5;66;03m# Get the expected feature names from the column transformer\u001b[39;00m\n\u001b[0;32m---> 10\u001b[0m     pipeline_features \u001b[38;5;241m=\u001b[39m \u001b[43mpipeline\u001b[49m\u001b[38;5;241;43m.\u001b[39;49m\u001b[43mnamed_steps\u001b[49m\u001b[43m[\u001b[49m\u001b[38;5;124;43m'\u001b[39;49m\u001b[38;5;124;43mcolumn_transformer\u001b[39;49m\u001b[38;5;124;43m'\u001b[39;49m\u001b[43m]\u001b[49m\u001b[38;5;241m.\u001b[39mget_feature_names_out()\n\u001b[1;32m     12\u001b[0m     \u001b[38;5;66;03m# Create a DataFrame with all expected features, setting all to 0 except for the budget\u001b[39;00m\n\u001b[1;32m     13\u001b[0m     budget_df \u001b[38;5;241m=\u001b[39m pd\u001b[38;5;241m.\u001b[39mDataFrame([{ \n\u001b[1;32m     14\u001b[0m         feat: budget_input \u001b[38;5;28;01mif\u001b[39;00m feat \u001b[38;5;241m==\u001b[39m \u001b[38;5;124m'\u001b[39m\u001b[38;5;124maverage_monthly_cost_$\u001b[39m\u001b[38;5;124m'\u001b[39m \u001b[38;5;28;01melse\u001b[39;00m \u001b[38;5;241m0\u001b[39m \n\u001b[1;32m     15\u001b[0m         \u001b[38;5;28;01mfor\u001b[39;00m feat \u001b[38;5;129;01min\u001b[39;00m pipeline_features\n\u001b[1;32m     16\u001b[0m     }], columns\u001b[38;5;241m=\u001b[39mpipeline_features)\n",
      "File \u001b[0;32m~/.pyenv/versions/3.10.6/envs/project_ics/lib/python3.10/site-packages/sklearn/utils/_bunch.py:42\u001b[0m, in \u001b[0;36mBunch.__getitem__\u001b[0;34m(self, key)\u001b[0m\n\u001b[1;32m     37\u001b[0m \u001b[38;5;28;01mif\u001b[39;00m key \u001b[38;5;129;01min\u001b[39;00m \u001b[38;5;28mself\u001b[39m\u001b[38;5;241m.\u001b[39m\u001b[38;5;18m__dict__\u001b[39m\u001b[38;5;241m.\u001b[39mget(\u001b[38;5;124m\"\u001b[39m\u001b[38;5;124m_deprecated_key_to_warnings\u001b[39m\u001b[38;5;124m\"\u001b[39m, {}):\n\u001b[1;32m     38\u001b[0m     warnings\u001b[38;5;241m.\u001b[39mwarn(\n\u001b[1;32m     39\u001b[0m         \u001b[38;5;28mself\u001b[39m\u001b[38;5;241m.\u001b[39m_deprecated_key_to_warnings[key],\n\u001b[1;32m     40\u001b[0m         \u001b[38;5;167;01mFutureWarning\u001b[39;00m,\n\u001b[1;32m     41\u001b[0m     )\n\u001b[0;32m---> 42\u001b[0m \u001b[38;5;28;01mreturn\u001b[39;00m \u001b[38;5;28;43msuper\u001b[39;49m\u001b[43m(\u001b[49m\u001b[43m)\u001b[49m\u001b[38;5;241;43m.\u001b[39;49m\u001b[38;5;21;43m__getitem__\u001b[39;49m\u001b[43m(\u001b[49m\u001b[43mkey\u001b[49m\u001b[43m)\u001b[49m\n",
      "\u001b[0;31mKeyError\u001b[0m: 'column_transformer'"
     ]
    }
   ],
   "source": [
    "import pickle\n",
    "import pandas as pd\n",
    "\n",
    "# Load the pipeline\n",
    "with open('../models/v2_scaler_pipeline.pkl', 'rb') as file:\n",
    "    pipeline = pickle.load(file)\n",
    "\n",
    "def test_scaling(budget_input):\n",
    "    # Get the expected feature names from the column transformer\n",
    "    pipeline_features = pipeline.named_steps['column_transformer'].get_feature_names_out()\n",
    "\n",
    "    # Create a DataFrame with all expected features, setting all to 0 except for the budget\n",
    "    budget_df = pd.DataFrame([{ \n",
    "        feat: budget_input if feat == 'average_monthly_cost_$' else 0 \n",
    "        for feat in pipeline_features\n",
    "    }], columns=pipeline_features)\n",
    "\n",
    "    # Use the specific column transformer for consistency\n",
    "    column_transformer = pipeline.named_steps['column_transformer']\n",
    "    scaled_budget = column_transformer.transform(budget_df)[0][0]  # Budget is the first column\n",
    "\n",
    "    print(f\"Input Budget: {budget_input}, Scaled Budget: {scaled_budget}\")\n",
    "\n",
    "# Test with a sample budget\n",
    "test_scaling(1000)  # Replace 1000 with any budget value you want to test"
   ]
  }
 ],
 "metadata": {
  "kernelspec": {
   "display_name": "project_ics",
   "language": "python",
   "name": "python3"
  },
  "language_info": {
   "codemirror_mode": {
    "name": "ipython",
    "version": 3
   },
   "file_extension": ".py",
   "mimetype": "text/x-python",
   "name": "python",
   "nbconvert_exporter": "python",
   "pygments_lexer": "ipython3",
   "version": "3.10.6"
  }
 },
 "nbformat": 4,
 "nbformat_minor": 2
}
