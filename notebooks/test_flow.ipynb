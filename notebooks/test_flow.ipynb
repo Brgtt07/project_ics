{
 "cells": [
  {
   "cell_type": "code",
   "execution_count": 8,
   "metadata": {},
   "outputs": [],
   "source": [
    "import sys\n",
    "import os\n",
    "# Add the directory containing 'package_folder' to the Python path\n",
    "sys.path.append(os.path.abspath('..'))\n"
   ]
  },
  {
   "cell_type": "code",
   "execution_count": 10,
   "metadata": {},
   "outputs": [],
   "source": [
    "# The package_folder is a package, so we don't need to import it directly.\n",
    "# Instead, we will import the specific modules we need.\n",
    "from package_folder.scaling_pipeline import transform_user_inputs  # Make sure these are implemented\n",
    "from package_folder.weighted_sum import weighted_sum  # Make sure these are implemented"
   ]
  },
  {
   "cell_type": "code",
   "execution_count": 11,
   "metadata": {},
   "outputs": [],
   "source": [
    "#real example of user inputs passed fron the frontend\n",
    "user_inputs = {\n",
    "\"climate_preference\":\"hot\",\n",
    "\"climate_importance\":2,\n",
    "\"cost_of_living_importance\":3,\n",
    "\"max_monthly_budget\":2000,\n",
    "\"healthcare_importance\":4,\n",
    "\"safety_importance\":5,\n",
    "\"internet_speed_importance\":6}"
   ]
  }
 ],
 "metadata": {
  "kernelspec": {
   "display_name": "project_ics",
   "language": "python",
   "name": "python3"
  },
  "language_info": {
   "codemirror_mode": {
    "name": "ipython",
    "version": 3
   },
   "file_extension": ".py",
   "mimetype": "text/x-python",
   "name": "python",
   "nbconvert_exporter": "python",
   "pygments_lexer": "ipython3",
   "version": "3.10.6"
  }
 },
 "nbformat": 4,
 "nbformat_minor": 2
}
