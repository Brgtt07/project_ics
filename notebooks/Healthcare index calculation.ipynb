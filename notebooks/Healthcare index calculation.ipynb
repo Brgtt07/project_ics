{
 "cells": [
  {
   "cell_type": "code",
   "execution_count": 47,
   "id": "1348919b",
   "metadata": {},
   "outputs": [],
   "source": [
    "import pandas as pd\n",
    "import pycountry\n",
    "\n"
   ]
  },
  {
   "cell_type": "code",
   "execution_count": 48,
   "id": "edfa4a6c",
   "metadata": {},
   "outputs": [
    {
     "data": {
      "text/plain": [
       "['readme', 'data']"
      ]
     },
     "execution_count": 48,
     "metadata": {},
     "output_type": "execute_result"
    }
   ],
   "source": [
    "# Load the uploaded WHO dataset\n",
    "file_path = \"../raw_data/Alternative_sources_country_level/WHO_health_data_2024.xlsx\" \n",
    "excel_data = pd.ExcelFile(file_path)\n",
    "\n",
    "# Display sheet names to identify where relevant data might reside\n",
    "sheet_names = excel_data.sheet_names\n",
    "sheet_names\n"
   ]
  },
  {
   "cell_type": "code",
   "execution_count": 49,
   "id": "a526397d",
   "metadata": {},
   "outputs": [
    {
     "data": {
      "text/html": [
       "<div>\n",
       "<style scoped>\n",
       "    .dataframe tbody tr th:only-of-type {\n",
       "        vertical-align: middle;\n",
       "    }\n",
       "\n",
       "    .dataframe tbody tr th {\n",
       "        vertical-align: top;\n",
       "    }\n",
       "\n",
       "    .dataframe thead th {\n",
       "        text-align: right;\n",
       "    }\n",
       "</style>\n",
       "<table border=\"1\" class=\"dataframe\">\n",
       "  <thead>\n",
       "    <tr style=\"text-align: right;\">\n",
       "      <th></th>\n",
       "      <th>IND_NAME</th>\n",
       "      <th>DIM_GEO_NAME</th>\n",
       "      <th>IND_CODE</th>\n",
       "      <th>DIM_GEO_CODE</th>\n",
       "      <th>DIM_TIME_YEAR</th>\n",
       "      <th>DIM_1_CODE</th>\n",
       "      <th>VALUE_NUMERIC</th>\n",
       "      <th>VALUE_STRING</th>\n",
       "      <th>VALUE_COMMENTS</th>\n",
       "    </tr>\n",
       "  </thead>\n",
       "  <tbody>\n",
       "    <tr>\n",
       "      <th>0</th>\n",
       "      <td>Adolescent birth rate (per 1000 women)</td>\n",
       "      <td>Afghanistan</td>\n",
       "      <td>MDG_0000000003</td>\n",
       "      <td>AFG</td>\n",
       "      <td>2021</td>\n",
       "      <td>AGEGROUP_YEARS15-19</td>\n",
       "      <td>62.000000</td>\n",
       "      <td>62.0</td>\n",
       "      <td>Afghanistan 2022-2023 Multiple Indicator Clust...</td>\n",
       "    </tr>\n",
       "    <tr>\n",
       "      <th>1</th>\n",
       "      <td>Adolescent birth rate (per 1000 women)</td>\n",
       "      <td>Afghanistan</td>\n",
       "      <td>MDG_0000000003</td>\n",
       "      <td>AFG</td>\n",
       "      <td>2021</td>\n",
       "      <td>AGEGROUP_YEARS10-14</td>\n",
       "      <td>18.000000</td>\n",
       "      <td>18.0</td>\n",
       "      <td>Afghanistan 2022-2023 Multiple Indicator Clust...</td>\n",
       "    </tr>\n",
       "    <tr>\n",
       "      <th>2</th>\n",
       "      <td>Age-standardized mortality rate attributed to ...</td>\n",
       "      <td>Afghanistan</td>\n",
       "      <td>SDGAIRBODA</td>\n",
       "      <td>AFG</td>\n",
       "      <td>2019</td>\n",
       "      <td>SEX_BTSX</td>\n",
       "      <td>265.664520</td>\n",
       "      <td>265.7</td>\n",
       "      <td>NaN</td>\n",
       "    </tr>\n",
       "    <tr>\n",
       "      <th>3</th>\n",
       "      <td>Age-standardized prevalence of hypertension am...</td>\n",
       "      <td>Afghanistan</td>\n",
       "      <td>NCD_HYP_PREVALENCE_A</td>\n",
       "      <td>AFG</td>\n",
       "      <td>2019</td>\n",
       "      <td>SEX_BTSX</td>\n",
       "      <td>40.200001</td>\n",
       "      <td>40.2</td>\n",
       "      <td>NaN</td>\n",
       "    </tr>\n",
       "    <tr>\n",
       "      <th>4</th>\n",
       "      <td>Age-standardized prevalence of obesity among a...</td>\n",
       "      <td>Afghanistan</td>\n",
       "      <td>NCD_BMI_30A</td>\n",
       "      <td>AFG</td>\n",
       "      <td>2022</td>\n",
       "      <td>SEX_BTSX</td>\n",
       "      <td>19.222589</td>\n",
       "      <td>19.2</td>\n",
       "      <td>NaN</td>\n",
       "    </tr>\n",
       "  </tbody>\n",
       "</table>\n",
       "</div>"
      ],
      "text/plain": [
       "                                            IND_NAME DIM_GEO_NAME  \\\n",
       "0             Adolescent birth rate (per 1000 women)  Afghanistan   \n",
       "1             Adolescent birth rate (per 1000 women)  Afghanistan   \n",
       "2  Age-standardized mortality rate attributed to ...  Afghanistan   \n",
       "3  Age-standardized prevalence of hypertension am...  Afghanistan   \n",
       "4  Age-standardized prevalence of obesity among a...  Afghanistan   \n",
       "\n",
       "               IND_CODE DIM_GEO_CODE  DIM_TIME_YEAR           DIM_1_CODE  \\\n",
       "0        MDG_0000000003          AFG           2021  AGEGROUP_YEARS15-19   \n",
       "1        MDG_0000000003          AFG           2021  AGEGROUP_YEARS10-14   \n",
       "2            SDGAIRBODA          AFG           2019             SEX_BTSX   \n",
       "3  NCD_HYP_PREVALENCE_A          AFG           2019             SEX_BTSX   \n",
       "4           NCD_BMI_30A          AFG           2022             SEX_BTSX   \n",
       "\n",
       "   VALUE_NUMERIC VALUE_STRING  \\\n",
       "0      62.000000         62.0   \n",
       "1      18.000000         18.0   \n",
       "2     265.664520        265.7   \n",
       "3      40.200001         40.2   \n",
       "4      19.222589         19.2   \n",
       "\n",
       "                                      VALUE_COMMENTS  \n",
       "0  Afghanistan 2022-2023 Multiple Indicator Clust...  \n",
       "1  Afghanistan 2022-2023 Multiple Indicator Clust...  \n",
       "2                                                NaN  \n",
       "3                                                NaN  \n",
       "4                                                NaN  "
      ]
     },
     "execution_count": 49,
     "metadata": {},
     "output_type": "execute_result"
    }
   ],
   "source": [
    "# Load the 'data' sheet which likely contains the country-level statistics\n",
    "df = excel_data.parse('data')\n",
    "\n",
    "# Display first few rows and column names to understand structure\n",
    "df.head()\n"
   ]
  },
  {
   "cell_type": "code",
   "execution_count": 50,
   "id": "37bb9dac",
   "metadata": {},
   "outputs": [
    {
     "data": {
      "text/plain": [
       "array(['Adolescent birth rate (per 1000 women)',\n",
       "       'Age-standardized mortality rate attributed to household and ambient air pollution  (per 100 000 population) ',\n",
       "       'Age-standardized prevalence of hypertension among adults aged 30–79 years (%)',\n",
       "       'Age-standardized prevalence of obesity among adults (18+ years) (%)',\n",
       "       'Age-standardized prevalence of tobacco use among persons 15 years and older (%) ',\n",
       "       'Amount of water- and sanitation-related official development assistance that is part of a government-coordinated spending plan (constant 2020 US$ millions)',\n",
       "       'Annual mean concentrations of fine particulate matter (PM2.5) in urban areas (µg/m3)',\n",
       "       'Average of 15 International Health Regulations core capacity scores',\n",
       "       'Density of dentists (per 10 000 population) ',\n",
       "       'Density of medical doctors (per 10 000 population) ',\n",
       "       'Density of nursing and midwifery personnel (per 10 000 population) ',\n",
       "       'Density of pharmacists (per 10 000 population) ',\n",
       "       'Diphtheria-tetanus-pertussis (DTP3) immunization coverage among 1-year-olds (%)',\n",
       "       'Domestic general government health expenditure (GGHE-D) as percentage of general government expenditure (GGE) (%)',\n",
       "       'Healthy life expectancy at birth (years)',\n",
       "       'Hepatitis B surface antigen (HBsAg) prevalence among children under 5 years (%)',\n",
       "       'Life expectancy at birth (years)',\n",
       "       'Malaria incidence (per 1000 population at risk)',\n",
       "       'Maternal mortality ratio (per 100 000 live births)',\n",
       "       'Measles-containing-vaccine second-dose (MCV2) immunization coverage by the locally recommended age (%)',\n",
       "       'Mortality rate attributed to exposure to unsafe WASH services (per 100 000 population)',\n",
       "       'Mortality rate due to homicide (per 100 000 population)',\n",
       "       'Mortality rate from unintentional poisoning (per 100 000 population)',\n",
       "       'Neonatal mortality rate (per 1000 live births)',\n",
       "       'New HIV infections (per 1000 uninfected population)',\n",
       "       'Number of cases of poliomyelitis caused by wild poliovirus (WPV)',\n",
       "       'Pneumococcal conjugate 3rd dose (PCV3) immunization coverage  among 1-year olds (%)',\n",
       "       'Population with household expenditures on health > 10% of total household expenditure or income (%)',\n",
       "       'Population with household expenditures on health > 25% of total household expenditure or income (%)',\n",
       "       'Prevalence of anaemia in women of reproductive age (15–49 years) (%)'],\n",
       "      dtype=object)"
      ]
     },
     "execution_count": 50,
     "metadata": {},
     "output_type": "execute_result"
    }
   ],
   "source": [
    "# List unique indicator names to identify available health metrics\n",
    "unique_indicators = df[\"IND_NAME\"].unique()\n",
    "unique_indicators[:30]  # Show the first 30 for review\n"
   ]
  },
  {
   "cell_type": "code",
   "execution_count": 51,
   "id": "9c1ba6f1",
   "metadata": {},
   "outputs": [],
   "source": [
    "# Define the selected indicators and which need to be minimized (e.g., mortality rates)\n",
    "selected_indicators = {\n",
    "    'Life expectancy at birth (years)': {'weight': 0.15, 'inverse': False},\n",
    "    'Neonatal mortality rate (per 1000 live births)': {'weight': 0.10, 'inverse': True},\n",
    "    'Maternal mortality ratio (per 100 000 live births)': {'weight': 0.15, 'inverse': True},\n",
    "    'Diphtheria-tetanus-pertussis (DTP3) immunization coverage among 1-year-olds (%)': {'weight': 0.10, 'inverse': False},\n",
    "    'Density of medical doctors (per 10 000 population) ': {'weight': 0.075, 'inverse': False},\n",
    "    'Density of nursing and midwifery personnel (per 10 000 population) ': {'weight': 0.075, 'inverse': False},\n",
    "    'Healthy life expectancy at birth (years)': {'weight': 0.10, 'inverse': False},\n",
    "    'Average of 15 International Health Regulations core capacity scores': {'weight': 0.10, 'inverse': False},\n",
    "    'Population with household expenditures on health > 10% of total household expenditure or income (%)': {'weight': 0.075, 'inverse': True},\n",
    "    'Domestic general government health expenditure (GGHE-D) as percentage of general government expenditure (GGE) (%)': {'weight': 0.075, 'inverse': False}\n",
    "}\n",
    "\n",
    "\n",
    "\n"
   ]
  },
  {
   "cell_type": "code",
   "execution_count": 52,
   "id": "a7ab37e5",
   "metadata": {},
   "outputs": [],
   "source": [
    "# Filter the dataset to include only selected indicators\n",
    "filtered_df = df[df[\"IND_NAME\"].isin(selected_indicators.keys())]\n",
    "\n",
    "# Use latest year for each indicator\n",
    "latest_df = filtered_df.sort_values('DIM_TIME_YEAR').drop_duplicates(subset=[\"IND_NAME\", \"DIM_GEO_NAME\"], keep=\"last\")"
   ]
  },
  {
   "cell_type": "code",
   "execution_count": 53,
   "id": "241a3b63",
   "metadata": {},
   "outputs": [],
   "source": [
    "# Pivot the data: rows = countries, columns = indicators\n",
    "pivot_df = latest_df.pivot(index=\"DIM_GEO_NAME\", columns=\"IND_NAME\", values=\"VALUE_NUMERIC\")\n",
    "\n",
    "# Normalize each indicator to 0–1 range\n",
    "normalized_df = pd.DataFrame(index=pivot_df.index)\n",
    "\n",
    "\n"
   ]
  },
  {
   "cell_type": "code",
   "execution_count": 54,
   "id": "b1f91e98",
   "metadata": {},
   "outputs": [],
   "source": [
    "for indicator, meta in selected_indicators.items():\n",
    "    if indicator in pivot_df.columns:\n",
    "        col = pivot_df[indicator]\n",
    "        # Normalize: (x - min) / (max - min) or inverse if lower = better\n",
    "        if meta['inverse']:\n",
    "            normalized_col = 1 - ((col - col.min()) / (col.max() - col.min()))\n",
    "        else:\n",
    "            normalized_col = (col - col.min()) / (col.max() - col.min())\n",
    "        normalized_df[indicator] = normalized_col * meta['weight']\n",
    "\n"
   ]
  },
  {
   "cell_type": "code",
   "execution_count": 55,
   "id": "01918718",
   "metadata": {},
   "outputs": [],
   "source": [
    "# Calculate final Health Index\n",
    "normalized_df[\"Health Index\"] = normalized_df.sum(axis=1)\n",
    "\n"
   ]
  },
  {
   "cell_type": "code",
   "execution_count": 56,
   "id": "a6224ce0",
   "metadata": {},
   "outputs": [],
   "source": [
    "# Combine with original pivot_df for output\n",
    "result_df = pivot_df.copy()\n",
    "result_df[\"Health Index\"] = normalized_df[\"Health Index\"]\n",
    "\n"
   ]
  },
  {
   "cell_type": "code",
   "execution_count": 57,
   "id": "80a0ff85",
   "metadata": {},
   "outputs": [],
   "source": [
    "# Sort by Health Index descending\n",
    "result_df_sorted = result_df.sort_values(by=\"Health Index\", ascending=False)\n",
    "\n"
   ]
  },
  {
   "cell_type": "code",
   "execution_count": 58,
   "id": "aea78c42",
   "metadata": {},
   "outputs": [],
   "source": [
    "# Extract only the country and health index columns\n",
    "health_index_df = result_df_sorted[[\"Health Index\"]].reset_index()\n",
    "health_index_df.columns = [\"Country\", \"Health Index\"]\n",
    "\n"
   ]
  },
  {
   "cell_type": "code",
   "execution_count": 59,
   "id": "fbd5f13b",
   "metadata": {},
   "outputs": [],
   "source": [
    "# Function to match country names to pycountry's official names\n",
    "def get_official_country_name(name):\n",
    "    try:\n",
    "        return pycountry.countries.lookup(name).name\n",
    "    except LookupError:\n",
    "        return name  # fallback to original if not found\n",
    "\n",
    "\n"
   ]
  },
  {
   "cell_type": "code",
   "execution_count": 60,
   "id": "8de97f60",
   "metadata": {},
   "outputs": [],
   "source": [
    "# Apply the function to standardize country names\n",
    "health_index_df[\"Country\"] = health_index_df[\"Country\"].apply(get_official_country_name)\n",
    "\n"
   ]
  },
  {
   "cell_type": "code",
   "execution_count": 61,
   "id": "983478af",
   "metadata": {},
   "outputs": [],
   "source": [
    "# Sort alphabetically by country name\n",
    "health_index_df_sorted = health_index_df.sort_values(by=\"Country\").reset_index(drop=True)\n",
    "\n"
   ]
  },
  {
   "cell_type": "code",
   "execution_count": 62,
   "id": "b652f535",
   "metadata": {},
   "outputs": [
    {
     "data": {
      "text/plain": [
       "'../raw_data/Alternative_sources_country_level/WHO_health_index_2024.csv'"
      ]
     },
     "execution_count": 62,
     "metadata": {},
     "output_type": "execute_result"
    }
   ],
   "source": [
    "# Save to CSV\n",
    "csv_path = \"../raw_data/Alternative_sources_country_level/WHO_health_index_2024.csv\"\n",
    "health_index_df_sorted.to_csv(csv_path, index=False)\n",
    "\n",
    "csv_path"
   ]
  },
  {
   "cell_type": "code",
   "execution_count": 63,
   "id": "3e6ae904",
   "metadata": {},
   "outputs": [
    {
     "data": {
      "text/plain": [
       "(['Republic of Korea',\n",
       "  'Netherlands (Kingdom of the)',\n",
       "  'European Region',\n",
       "  'Iran (Islamic Republic of)',\n",
       "  'Region of the Americas',\n",
       "  'Western Pacific Region',\n",
       "  'occupied Palestinian territory, including east Jerusalem',\n",
       "  'South-East Asia Region',\n",
       "  'Bolivia (Plurinational State of)',\n",
       "  'Eastern Mediterranean Region'],\n",
       " 16)"
      ]
     },
     "execution_count": 63,
     "metadata": {},
     "output_type": "execute_result"
    }
   ],
   "source": [
    "# Identify which country names didn't match pycountry and had to fall back\n",
    "fallbacks = []\n",
    "\n",
    "for name in health_index_df[\"Country\"]:\n",
    "    try:\n",
    "        _ = pycountry.countries.lookup(name).name\n",
    "    except LookupError:\n",
    "        fallbacks.append(name)\n",
    "\n",
    "# Count and list fallback names\n",
    "fallback_count = len(fallbacks)\n",
    "fallbacks[:10], fallback_count  # Show first 10 fallbacks and total count\n"
   ]
  },
  {
   "cell_type": "code",
   "execution_count": 64,
   "id": "40112a26",
   "metadata": {},
   "outputs": [],
   "source": [
    "# Define a custom mapping for known exceptions that are actual countries with alternate names\n",
    "custom_country_mapping = {\n",
    "    'Republic of Korea': 'South Korea',\n",
    "    'Türkiye': 'Turkey',\n",
    "    'Iran (Islamic Republic of)': 'Iran',\n",
    "    'Bolivia (Plurinational State of)': 'Bolivia',\n",
    "    'Netherlands (Kingdom of the)': 'Netherlands',\n",
    "    'Venezuela (Bolivarian Republic of)': 'Venezuela',\n",
    "    'Russian Federation': 'Russia',\n",
    "    'Czechia': 'Czech Republic',\n",
    "    'United Kingdom of Great Britain and Northern Ireland': 'United Kingdom',\n",
    "    'United Republic of Tanzania': 'Tanzania',\n",
    "    'Syrian Arab Republic': 'Syria',\n",
    "    'Lao People\\'s Democratic Republic': 'Laos',\n",
    "    'Brunei Darussalam': 'Brunei',\n",
    "    'Moldova (Republic of)': 'Moldova',\n",
    "    'Viet Nam': 'Vietnam',\n",
    "    'Democratic Republic of the Congo': 'Congo (Kinshasa)',\n",
    "    'Congo': 'Congo (Brazzaville)'\n",
    "}\n",
    "\n"
   ]
  },
  {
   "cell_type": "code",
   "execution_count": 65,
   "id": "9e112f33",
   "metadata": {},
   "outputs": [],
   "source": [
    "# Function to clean and match only actual countries\n",
    "def map_to_standard_country(name):\n",
    "    if name in custom_country_mapping:\n",
    "        name = custom_country_mapping[name]\n",
    "    try:\n",
    "        return pycountry.countries.lookup(name).name\n",
    "    except LookupError:\n",
    "        return None  # will be dropped later\n",
    "\n"
   ]
  },
  {
   "cell_type": "code",
   "execution_count": 66,
   "id": "0c94b121",
   "metadata": {},
   "outputs": [],
   "source": [
    "# Apply the mapping and remove non-countries\n",
    "health_index_df[\"Standard Country\"] = health_index_df[\"Country\"].apply(map_to_standard_country)\n",
    "cleaned_df = health_index_df.dropna(subset=[\"Standard Country\"])\n",
    "cleaned_df = cleaned_df[[\"Standard Country\", \"Health Index\"]].rename(columns={\"Standard Country\": \"Country\"})\n",
    "cleaned_df = cleaned_df.sort_values(by=\"Country\").reset_index(drop=True)\n",
    "\n"
   ]
  },
  {
   "cell_type": "code",
   "execution_count": 67,
   "id": "aa1db34f",
   "metadata": {},
   "outputs": [
    {
     "data": {
      "text/plain": [
       "'../raw_data/Alternative_sources_country_level/WHO_health_index_2024.csv'"
      ]
     },
     "execution_count": 67,
     "metadata": {},
     "output_type": "execute_result"
    }
   ],
   "source": [
    "# Save to CSV\n",
    "csv_path = \"../raw_data/Alternative_sources_country_level/WHO_health_index_2024.csv\"\n",
    "cleaned_df.to_csv(csv_path, index=False)\n",
    "\n",
    "csv_path"
   ]
  },
  {
   "cell_type": "code",
   "execution_count": null,
   "id": "45162d69",
   "metadata": {},
   "outputs": [],
   "source": []
  }
 ],
 "metadata": {
  "kernelspec": {
   "display_name": "Python 3 (ipykernel)",
   "language": "python",
   "name": "python3"
  },
  "language_info": {
   "codemirror_mode": {
    "name": "ipython",
    "version": 3
   },
   "file_extension": ".py",
   "mimetype": "text/x-python",
   "name": "python",
   "nbconvert_exporter": "python",
   "pygments_lexer": "ipython3",
   "version": "3.10.6"
  },
  "toc": {
   "base_numbering": 1,
   "nav_menu": {},
   "number_sections": true,
   "sideBar": true,
   "skip_h1_title": false,
   "title_cell": "Table of Contents",
   "title_sidebar": "Contents",
   "toc_cell": false,
   "toc_position": {},
   "toc_section_display": true,
   "toc_window_display": false
  }
 },
 "nbformat": 4,
 "nbformat_minor": 5
}
