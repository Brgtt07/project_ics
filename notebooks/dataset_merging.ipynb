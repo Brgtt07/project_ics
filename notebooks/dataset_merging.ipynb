{
 "cells": [
  {
   "cell_type": "markdown",
   "metadata": {},
   "source": [
    "## Context"
   ]
  },
  {
   "cell_type": "markdown",
   "metadata": {},
   "source": [
    "we have single datasets for each type of \"factor\" that people might take in consideration when deciding what country to live in, but we need to merge all of them into one single dataset in order to build models with this data"
   ]
  },
  {
   "cell_type": "markdown",
   "metadata": {},
   "source": [
    "### Exploration"
   ]
  },
  {
   "cell_type": "markdown",
   "metadata": {},
   "source": [
    "we have 5 datasets in total:\n",
    "- cost of living\n",
    "- healthcare index\n",
    "- safety index\n",
    "- internet speed\n",
    "- average temperatures"
   ]
  },
  {
   "cell_type": "markdown",
   "metadata": {},
   "source": []
  },
  {
   "cell_type": "code",
   "execution_count": 9,
   "metadata": {},
   "outputs": [],
   "source": [
    "import pandas as pd\n",
    "\n",
    "cost_of_living = pd.read_csv(\"../raw_data/Alternative_sources_country_level/cost_expense.csv\")\n",
    "#healtcare = pd.read_csv(\"../raw_data/Alternative_sources_country_level/????????\")\n",
    "climate = pd.read_csv(\"../raw_data/Alternative_sources_country_level/climate_avarage_temperature.csv\")\n",
    "internet = pd.read_csv(\"../raw_data/Alternative_sources_country_level/internet_speed_rankings.csv\")\n",
    "safety = pd.read_csv(\"../raw_data/Alternative_sources_country_level/safety_index_data.csv\")"
   ]
  },
  {
   "cell_type": "code",
   "execution_count": 10,
   "metadata": {},
   "outputs": [],
   "source": [
    "#select only the columns we need for now, rename them with explanative names and set the index to country for all datasets\n",
    "\n",
    "#cost of living\n",
    "cost_of_living = cost_of_living[['country', 'average_monthly_cost($)']]\n",
    "cost_of_living.columns = ['Country', 'average_monthly_cost_$']\n",
    "cost_of_living.set_index('Country', inplace=True)\n",
    "\n",
    "# healthcare dataset\n",
    "#healthcare = healthcare[['Country', 'Healthcare Index']]\n",
    "#healthcare.columns = ['Country', 'Healthcare Index']\n",
    "#healthcare.set_index('Country', inplace=True)\n",
    "\n",
    "# climate dataset\n",
    "climate = climate[['Country', 'Temperature']]\n",
    "climate.columns = ['Country', 'average_yearly_temperature']\n",
    "climate.set_index('Country', inplace=True)\n",
    "\n",
    "# internet dataset\n",
    "internet = internet[['Country', 'Internet Speed (Mbps)']]\n",
    "internet.columns = ['Country', 'internet_speed_mbps']\n",
    "internet.set_index('Country', inplace=True)\n",
    "\n",
    "# safety dataset\n",
    "safety = safety[['Country', 'Safety Index']]\n",
    "safety.columns = ['Country', 'safety_index']\n",
    "safety.set_index('Country', inplace=True)\n"
   ]
  },
  {
   "cell_type": "code",
   "execution_count": null,
   "metadata": {},
   "outputs": [],
   "source": []
  }
 ],
 "metadata": {
  "kernelspec": {
   "display_name": "project_ics",
   "language": "python",
   "name": "python3"
  },
  "language_info": {
   "codemirror_mode": {
    "name": "ipython",
    "version": 3
   },
   "file_extension": ".py",
   "mimetype": "text/x-python",
   "name": "python",
   "nbconvert_exporter": "python",
   "pygments_lexer": "ipython3",
   "version": "3.10.6"
  }
 },
 "nbformat": 4,
 "nbformat_minor": 2
}
