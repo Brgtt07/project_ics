{
 "cells": [
  {
   "cell_type": "markdown",
   "metadata": {},
   "source": [
    "# Context"
   ]
  },
  {
   "cell_type": "markdown",
   "metadata": {},
   "source": [
    "we have single datasets for each type of \"factor\" that people might take in consideration when deciding what country to live in, but we need to merge all of them into one single dataset in order to build models with this data"
   ]
  },
  {
   "cell_type": "markdown",
   "metadata": {},
   "source": [
    "# Basic cleaning and Exploration"
   ]
  },
  {
   "cell_type": "markdown",
   "metadata": {},
   "source": [
    "we have 5 datasets in total:\n",
    "- cost of living\n",
    "- healthcare index\n",
    "- safety index\n",
    "- internet speed\n",
    "- average temperatures"
   ]
  },
  {
   "cell_type": "code",
   "execution_count": 1,
   "metadata": {},
   "outputs": [],
   "source": [
    "import pandas as pd\n",
    "\n",
    "cost_of_living = pd.read_csv(\"../raw_data/Alternative_sources_country_level/cost_expense.csv\")\n",
    "healthcare = pd.read_csv(\"../raw_data/Alternative_sources_country_level/healthcare_index.csv\")\n",
    "climate = pd.read_csv(\"../raw_data/Alternative_sources_country_level/climate_avarage_temperature.csv\")\n",
    "internet = pd.read_csv(\"../raw_data/Alternative_sources_country_level/internet_speed_rankings.csv\")\n",
    "safety = pd.read_csv(\"../raw_data/Alternative_sources_country_level/safety_index_data.csv\")"
   ]
  },
  {
   "cell_type": "code",
   "execution_count": 2,
   "metadata": {},
   "outputs": [],
   "source": [
    "#select only the columns we need for now, rename them with explanative names and set the index to country for all datasets\n",
    "\n",
    "#cost of living\n",
    "cost_of_living = cost_of_living[['country', 'average_monthly_cost($)']]\n",
    "cost_of_living.columns = ['Country', 'average_monthly_cost_$']\n",
    "cost_of_living.set_index('Country', inplace=True)\n",
    "\n",
    "# healthcare dataset\n",
    "healthcare = healthcare[['Country', 'Health Care Index']]\n",
    "healthcare.columns = ['Country', 'Healthcare Index']\n",
    "healthcare.set_index('Country', inplace=True)\n",
    "\n",
    "# climate dataset\n",
    "climate = climate[['Country', 'Temperature']]\n",
    "climate.columns = ['Country', 'average_yearly_temperature']\n",
    "climate.set_index('Country', inplace=True)\n",
    "\n",
    "# internet dataset\n",
    "internet = internet[['Country', 'Internet Speed (Mbps)']]\n",
    "internet.columns = ['Country', 'internet_speed_mbps']\n",
    "internet.set_index('Country', inplace=True)\n",
    "\n",
    "# safety dataset\n",
    "safety = safety[['Country', 'Safety Index']]\n",
    "safety.columns = ['Country', 'safety_index']\n",
    "safety.set_index('Country', inplace=True)\n"
   ]
  },
  {
   "cell_type": "code",
   "execution_count": 3,
   "metadata": {},
   "outputs": [
    {
     "name": "stdout",
     "output_type": "stream",
     "text": [
      "Total unique countries across all datasets: 255\n",
      "Countries common to all datasets: 116\n",
      "Countries that would be lost in a direct merge: 139\n",
      "\n",
      "Dataset coverage:\n",
      "Cost of living dataset: 172 countries\n",
      "Climate dataset: 178 countries\n",
      "Internet dataset: 155 countries\n",
      "Safety dataset: 147 countries\n",
      "Healthcare dataset: 236 countries\n"
     ]
    }
   ],
   "source": [
    "#Now let's understand how the Country indexes are misaligned between the datasets\n",
    "\n",
    "\n",
    "# 1. Assess misalignment between datasets\n",
    "\n",
    "# Get all unique country names from each dataset\n",
    "countries_cost = set(cost_of_living.index)\n",
    "countries_climate = set(climate.index)\n",
    "countries_internet = set(internet.index)\n",
    "countries_safety = set(safety.index)\n",
    "countries_healthcare = set(healthcare.index)\n",
    "\n",
    "# Count total unique countries across all datasets\n",
    "all_countries = countries_cost.union(countries_climate, countries_internet, countries_safety, countries_healthcare)\n",
    "print(f\"Total unique countries across all datasets: {len(all_countries)}\")\n",
    "\n",
    "# Check how many countries are common across all datasets\n",
    "common_countries = countries_cost.intersection(countries_climate, countries_internet, countries_safety, countries_healthcare)\n",
    "print(f\"Countries common to all datasets: {len(common_countries)}\")\n",
    "print(f\"Countries that would be lost in a direct merge: {len(all_countries) - len(common_countries)}\")\n",
    "\n",
    "# Check dataset-specific coverage\n",
    "print(f\"\\nDataset coverage:\")\n",
    "print(f\"Cost of living dataset: {len(countries_cost)} countries\")\n",
    "print(f\"Climate dataset: {len(countries_climate)} countries\")\n",
    "print(f\"Internet dataset: {len(countries_internet)} countries\")\n",
    "print(f\"Safety dataset: {len(countries_safety)} countries\")\n",
    "print(f\"Healthcare dataset: {len(countries_healthcare)} countries\")"
   ]
  },
  {
   "cell_type": "markdown",
   "metadata": {},
   "source": [
    "# Standardizing country names"
   ]
  },
  {
   "cell_type": "code",
   "execution_count": 4,
   "metadata": {},
   "outputs": [
    {
     "name": "stdout",
     "output_type": "stream",
     "text": [
      "\n",
      "After standardization:\n",
      "Countries common to all datasets: 122\n"
     ]
    }
   ],
   "source": [
    "# 2. Standardize country names\n",
    "\n",
    "# Create a function to standardize country names\n",
    "def standardize_country_name(name):\n",
    "    # Convert to lowercase for comparison\n",
    "    name = name.lower()\n",
    "    \n",
    "    # Replacements to be made manually\n",
    "    easy_replacements = {\n",
    "        'democratic republic of the congo': 'congo',\n",
    "        'republic of the congo': 'congo',\n",
    "        \"côte d'ivoire\": 'ivory coast',\n",
    "        'dr congo': 'congo',\n",
    "        'hong kong (sar)': 'hong kong',\n",
    "        'macau (sar)': 'macau',\n",
    "        'trinidad and tobago': 'trinidad & tobago',\n",
    "        'bosnia and herzegovina': 'bosnia & herzegovina',\n",
    "        'ivory coast': 'ivory coast',\n",
    "        'myanmar (burma)': 'myanmar',\n",
    "        'macau (china)': 'macau',\n",
    "        'hong kong (china)': 'hong kong',\n",
    "        'tanzania, united republic of': 'tanzania',\n",
    "        'united kingdom of great britain & northern ireland': 'united kingdom',\n",
    "        'swaziland': 'eswatini',\n",
    "        'türkiye': 'turkey',\n",
    "        'sint maarten': 'saint martin',\n",
    "        'kosovo (disputed territory)': 'kosovo',\n",
    "        'us virgin islands': 'united states virgin islands',\n",
    "        'cape verde': 'cabo verde',\n",
    "        'puerto rico': 'puerto rico',\n",
    "        'macao (china)': 'macau',\n",
    "        'trinidad and tobago': 'trinidad & tobago',\n",
    "        'bosnia and herzegovina': 'bosnia & herzegovina',\n",
    "        'antigua and barbuda': 'antigua & barbuda',\n",
    "        \"tanzania, united republic of\": \"tanzania\",\n",
    "        \"czechia\": \"czech republic\",\n",
    "        \"korea, republic of\": \"south korea\",\n",
    "        \"moldova, republic of\": \"moldova\",\n",
    "        \"macedonia, the former yugoslav republic of\": \"north macedonia\",\n",
    "        \"slovakia\": \"slovakia\",\n",
    "        \"myanmar (burma)\": \"myanmar\",\n",
    "        \"united kingdom of great britain and northern ireland\": \"united kingdom\",\n",
    "        'the bahamas': 'bahamas',\n",
    "        \"united states virgin islands\": \"virgin islands\"\n",
    "    }\n",
    "    \n",
    "    # Apply replacements\n",
    "    for old, new in easy_replacements.items():\n",
    "        if name == old:\n",
    "            return new\n",
    "    \n",
    "    return name\n",
    "\n",
    "# Create standardized versions of each dataset\n",
    "def standardize_dataset(df):\n",
    "    # Create a copy to avoid modifying the original\n",
    "    df_std = df.copy()\n",
    "    \n",
    "    # Create a mapping of original to standardized names\n",
    "    name_mapping = {idx: standardize_country_name(idx) for idx in df.index}\n",
    "    \n",
    "    # Create a new index with standardized names\n",
    "    df_std.index = [name_mapping[idx] for idx in df.index]\n",
    "    \n",
    "    return df_std, name_mapping\n",
    "\n",
    "# Standardize each dataset\n",
    "cost_of_living_std, cost_mapping = standardize_dataset(cost_of_living)\n",
    "climate_std, climate_mapping = standardize_dataset(climate)\n",
    "internet_std, internet_mapping = standardize_dataset(internet)\n",
    "safety_std, safety_mapping = standardize_dataset(safety)\n",
    "healthcare_std, healthcare_mapping = standardize_dataset(healthcare)\n",
    "\n",
    "# Check improvement after standardization\n",
    "countries_cost_std = set(cost_of_living_std.index)\n",
    "countries_climate_std = set(climate_std.index)\n",
    "countries_internet_std = set(internet_std.index)\n",
    "countries_safety_std = set(safety_std.index)\n",
    "countries_healthcare_std = set(healthcare_std.index)\n",
    "common_countries_std = countries_cost_std.intersection(countries_climate_std, countries_internet_std, countries_safety_std, countries_healthcare_std)\n",
    "print(f\"\\nAfter standardization:\")\n",
    "print(f\"Countries common to all datasets: {len(common_countries_std)}\")\n",
    "\n"
   ]
  },
  {
   "cell_type": "code",
   "execution_count": 5,
   "metadata": {},
   "outputs": [
    {
     "name": "stdout",
     "output_type": "stream",
     "text": [
      "['afghanistan', 'albania', 'algeria', 'angola', 'antigua & barbuda', 'argentina', 'armenia', 'australia', 'austria', 'azerbaijan', 'bahamas', 'bahrain', 'bangladesh', 'barbados', 'belarus', 'belgium', 'belize', 'benin', 'bolivia', 'bosnia & herzegovina', 'botswana', 'brazil', 'brunei', 'bulgaria', 'burkina faso', 'cabo verde', 'cambodia', 'cameroon', 'canada', 'chile', 'china', 'colombia', 'congo', 'costa rica', 'croatia', 'cuba', 'cyprus', 'czech republic', 'denmark', 'dominica', 'dominican republic', 'ecuador', 'egypt', 'el salvador', 'estonia', 'ethiopia', 'finland', 'france', 'gabon', 'georgia', 'germany', 'ghana', 'greece', 'guatemala', 'guyana', 'haiti', 'honduras', 'hong kong', 'hungary', 'iceland', 'india', 'indonesia', 'iran', 'iraq', 'ireland', 'israel', 'italy', 'ivory coast', 'jamaica', 'japan', 'jordan', 'kazakhstan', 'kenya', 'kosovo', 'kuwait', 'kyrgyzstan', 'laos', 'latvia', 'lebanon', 'libya', 'liechtenstein', 'luxembourg', 'macau', 'madagascar', 'malaysia', 'maldives', 'mali', 'malta', 'mauritania', 'mauritius', 'mexico', 'moldova', 'mongolia', 'montenegro', 'morocco', 'mozambique', 'myanmar', 'namibia', 'nepal', 'netherlands', 'new zealand', 'nicaragua', 'nigeria', 'north macedonia', 'norway', 'oman', 'pakistan', 'palestine', 'panama', 'paraguay', 'peru', 'philippines', 'poland', 'portugal', 'qatar', 'romania', 'russia', 'rwanda', 'san marino', 'saudi arabia', 'senegal', 'serbia', 'singapore', 'slovakia', 'slovenia', 'somalia', 'south africa', 'south korea', 'spain', 'sri lanka', 'suriname', 'sweden', 'switzerland', 'syria', 'taiwan', 'tajikistan', 'tanzania', 'thailand', 'togo', 'trinidad & tobago', 'tunisia', 'turkey', 'turkmenistan', 'uganda', 'ukraine', 'united arab emirates', 'united kingdom', 'united states', 'uruguay', 'uzbekistan', 'venezuela', 'vietnam', 'yemen', 'zambia', 'zimbabwe']\n",
      "['afghanistan', 'albania', 'algeria', 'andorra', 'angola', 'argentina', 'armenia', 'aruba', 'australia', 'austria', 'azerbaijan', 'bahamas', 'bahrain', 'bangladesh', 'barbados', 'belarus', 'belgium', 'belize', 'bermuda', 'bhutan', 'bolivia', 'bosnia & herzegovina', 'botswana', 'brazil', 'brunei', 'bulgaria', 'cabo verde', 'cambodia', 'cameroon', 'canada', 'chile', 'china', 'colombia', 'congo', 'costa rica', 'croatia', 'cuba', 'curacao', 'cyprus', 'czech republic', 'denmark', 'dominica', 'dominican republic', 'ecuador', 'egypt', 'estonia', 'eswatini', 'ethiopia', 'fiji', 'finland', 'france', 'french polynesia', 'gabon', 'gambia', 'georgia', 'germany', 'ghana', 'gibraltar', 'greece', 'guatemala', 'guinea', 'guyana', 'honduras', 'hong kong', 'hungary', 'iceland', 'india', 'indonesia', 'iran', 'iraq', 'ireland', 'isle of man', 'israel', 'italy', 'ivory coast', 'jamaica', 'japan', 'jersey', 'jordan', 'kazakhstan', 'kenya', 'kosovo', 'kuwait', 'kyrgyzstan', 'laos', 'latvia', 'lebanon', 'liberia', 'libya', 'liechtenstein', 'lithuania', 'luxembourg', 'madagascar', 'malawi', 'malaysia', 'maldives', 'malta', 'marshall islands', 'martinique', 'mauritania', 'mauritius', 'mexico', 'moldova', 'monaco', 'mongolia', 'montenegro', 'morocco', 'mozambique', 'namibia', 'nepal', 'netherlands', 'new caledonia', 'new zealand', 'nicaragua', 'niger', 'nigeria', 'north macedonia', 'norway', 'oman', 'pakistan', 'panama', 'papua new guinea', 'paraguay', 'peru', 'philippines', 'poland', 'portugal', 'puerto rico', 'qatar', 'reunion', 'romania', 'russia', 'rwanda', 'saint helena', 'saint martin', 'saudi arabia', 'senegal', 'serbia', 'seychelles', 'singapore', 'slovakia', 'slovenia', 'somalia', 'south africa', 'south korea', 'spain', 'sri lanka', 'sudan', 'suriname', 'sweden', 'switzerland', 'syria', 'taiwan', 'tajikistan', 'tanzania', 'thailand', 'togo', 'trinidad & tobago', 'tunisia', 'turkey', 'turkmenistan', 'uganda', 'ukraine', 'united arab emirates', 'united kingdom', 'united states', 'uruguay', 'uzbekistan', 'venezuela', 'vietnam', 'zambia', 'zimbabwe']\n",
      "['afghanistan', 'albania', 'algeria', 'andorra', 'angola', 'antigua & barbuda', 'argentina', 'armenia', 'australia', 'austria', 'azerbaijan', 'bahamas', 'bahrain', 'bangladesh', 'barbados', 'belarus', 'belgium', 'belize', 'benin', 'bhutan', 'bolivia', 'bosnia & herzegovina', 'botswana', 'brazil', 'brunei', 'bulgaria', 'burkina faso', 'burundi', 'cambodia', 'cameroon', 'canada', 'central african republic', 'chad', 'chile', 'china', 'colombia', 'comoros', 'congo', 'costa rica', 'croatia', 'cuba', 'cyprus', 'czech republic', 'denmark', 'djibouti', 'dominica', 'dominican republic', 'ecuador', 'egypt', 'el salvador', 'equatorial guinea', 'eritrea', 'estonia', 'ethiopia', 'finland', 'france', 'gabon', 'gambia', 'georgia', 'germany', 'ghana', 'greece', 'grenada', 'guatemala', 'guinea', 'guinea-bissau', 'guyana', 'haiti', 'honduras', 'hungary', 'iceland', 'india', 'indonesia', 'iran', 'iraq', 'ireland', 'israel', 'italy', 'jamaica', 'japan', 'jordan', 'kazakhstan', 'kenya', 'kiribati', 'kuwait', 'laos', 'latvia', 'lebanon', 'lesotho', 'liberia', 'libya', 'liechtenstein', 'lithuania', 'luxembourg', 'madagascar', 'malawi', 'malaysia', 'maldives', 'mali', 'malta', 'marshall islands', 'mauritania', 'mauritius', 'mexico', 'monaco', 'mongolia', 'montenegro', 'morocco', 'mozambique', 'myanmar', 'namibia', 'nepal', 'netherlands', 'new zealand', 'nicaragua', 'niger', 'nigeria', 'north korea', 'norway', 'oman', 'pakistan', 'palau', 'panama', 'papua new guinea', 'paraguay', 'peru', 'philippines', 'poland', 'portugal', 'qatar', 'romania', 'rwanda', 'saint kitts and nevis', 'saint lucia', 'saint vincent and the grenadines', 'samoa', 'san marino', 'saudi arabia', 'senegal', 'serbia', 'sierra leone', 'singapore', 'slovakia', 'slovenia', 'solomon islands', 'somalia', 'south africa', 'south korea', 'spain', 'sri lanka', 'sudan', 'suriname', 'sweden', 'switzerland', 'syria', 'tajikistan', 'tanzania', 'thailand', 'timor-leste', 'togo', 'tonga', 'trinidad & tobago', 'tunisia', 'turkmenistan', 'tuvalu', 'uganda', 'ukraine', 'united arab emirates', 'united kingdom', 'united states', 'uruguay', 'uzbekistan', 'vanuatu', 'venezuela', 'vietnam', 'yemen', 'zambia', 'zimbabwe']\n",
      "['afghanistan', 'albania', 'algeria', 'andorra', 'angola', 'argentina', 'armenia', 'australia', 'austria', 'azerbaijan', 'bahamas', 'bahrain', 'bangladesh', 'barbados', 'belarus', 'belgium', 'belize', 'bolivia', 'bosnia & herzegovina', 'botswana', 'brazil', 'brunei', 'bulgaria', 'cambodia', 'cameroon', 'canada', 'cayman islands', 'chile', 'china', 'colombia', 'costa rica', 'croatia', 'cuba', 'cyprus', 'czech republic', 'denmark', 'dominican republic', 'ecuador', 'egypt', 'el salvador', 'estonia', 'ethiopia', 'fiji', 'finland', 'france', 'georgia', 'germany', 'ghana', 'greece', 'guatemala', 'guyana', 'haiti', 'honduras', 'hong kong', 'hungary', 'iceland', 'india', 'indonesia', 'iran', 'iraq', 'ireland', 'isle of man', 'israel', 'italy', 'ivory coast', 'jamaica', 'japan', 'jordan', 'kazakhstan', 'kenya', 'kosovo', 'kuwait', 'kyrgyzstan', 'latvia', 'lebanon', 'libya', 'lithuania', 'luxembourg', 'malaysia', 'maldives', 'malta', 'mauritius', 'mexico', 'moldova', 'monaco', 'mongolia', 'montenegro', 'morocco', 'mozambique', 'myanmar', 'namibia', 'nepal', 'netherlands', 'new zealand', 'nicaragua', 'nigeria', 'north korea', 'north macedonia', 'norway', 'oman', 'pakistan', 'palestine', 'panama', 'papua new guinea', 'paraguay', 'peru', 'philippines', 'poland', 'portugal', 'puerto rico', 'qatar', 'romania', 'russia', 'rwanda', 'saudi arabia', 'serbia', 'singapore', 'slovakia', 'slovenia', 'somalia', 'south africa', 'south korea', 'spain', 'sri lanka', 'sudan', 'sweden', 'switzerland', 'syria', 'taiwan', 'tanzania', 'thailand', 'trinidad & tobago', 'tunisia', 'turkey', 'uganda', 'ukraine', 'united arab emirates', 'united kingdom', 'united states', 'united states virgin islands', 'uruguay', 'uzbekistan', 'venezuela', 'vietnam', 'yemen', 'zambia', 'zimbabwe']\n",
      "['afghanistan', 'aland islands', 'albania', 'alderney', 'algeria', 'american samoa', 'andorra', 'angola', 'anguilla', 'antigua & barbuda', 'argentina', 'armenia', 'aruba', 'australia', 'austria', 'azerbaijan', 'bahamas', 'bahrain', 'bangladesh', 'barbados', 'belarus', 'belgium', 'belize', 'benin', 'bermuda', 'bhutan', 'bolivia', 'bonaire', 'bosnia & herzegovina', 'botswana', 'brazil', 'british virgin islands', 'brunei', 'bulgaria', 'burkina faso', 'burundi', 'cabo verde', 'cambodia', 'cameroon', 'canada', 'cayman islands', 'central african republic', 'chad', 'chile', 'china', 'colombia', 'comoros', 'congo', 'congo', 'cook islands', 'costa rica', 'croatia', 'cuba', 'curacao', 'cyprus', 'czech republic', 'denmark', 'djibouti', 'dominica', 'dominican republic', 'ecuador', 'egypt', 'el salvador', 'equatorial guinea', 'eritrea', 'estonia', 'eswatini', 'ethiopia', 'falkland islands', 'faroe islands', 'fiji', 'finland', 'france', 'french guiana', 'french polynesia', 'french southern territories', 'gabon', 'gambia', 'georgia', 'germany', 'ghana', 'gibraltar', 'greece', 'greenland', 'grenada', 'guadeloupe', 'guam', 'guatemala', 'guernsey', 'guinea', 'guinea-bissau', 'guyana', 'haiti', 'honduras', 'hong kong', 'hungary', 'iceland', 'india', 'indonesia', 'iran', 'iraq', 'ireland', 'isle of man', 'israel', 'italy', 'ivory coast', 'jamaica', 'japan', 'jersey', 'jordan', 'kazakhstan', 'kenya', 'kiribati', 'kosovo', 'kuwait', 'kyrgyzstan', 'laos', 'latvia', 'lebanon', 'lesotho', 'liberia', 'libya', 'liechtenstein', 'lithuania', 'luxembourg', 'macau', 'madagascar', 'malawi', 'malaysia', 'maldives', 'mali', 'malta', 'marshall islands', 'martinique', 'mauritania', 'mauritius', 'mexico', 'micronesia', 'moldova', 'monaco', 'mongolia', 'montenegro', 'montserrat', 'morocco', 'mozambique', 'myanmar', 'namibia', 'nauru', 'nepal', 'netherlands', 'new caledonia', 'new zealand', 'nicaragua', 'niger', 'nigeria', 'niue', 'north korea', 'north macedonia', 'northern mariana islands', 'norway', 'oman', 'pakistan', 'palau', 'palestine', 'panama', 'papua new guinea', 'paraguay', 'peru', 'philippines', 'poland', 'portugal', 'puerto rico', 'qatar', 'reunion', 'romania', 'russia', 'rwanda', 'saint helena', 'saint kitts and nevis', 'saint lucia', 'saint martin', 'saint vincent and the grenadines', 'saint-pierre and miquelon', 'samoa', 'san marino', 'sao tome and principe', 'saudi arabia', 'senegal', 'serbia', 'seychelles', 'sierra leone', 'singapore', 'slovakia', 'slovenia', 'solomon islands', 'somalia', 'south africa', 'south korea', 'south sudan', 'spain', 'sri lanka', 'sudan', 'suriname', 'sweden', 'switzerland', 'syria', 'taiwan', 'tajikistan', 'tanzania', 'thailand', 'timor-leste', 'togo', 'tonga', 'trinidad & tobago', 'tunisia', 'turkey', 'turkmenistan', 'turks and caicos islands', 'tuvalu', 'uganda', 'ukraine', 'united arab emirates', 'united kingdom', 'united states', 'united states virgin islands', 'uruguay', 'uzbekistan', 'vanuatu', 'vatican city', 'venezuela', 'vietnam', 'wallis and futuna', 'western sahara', 'yemen', 'zambia', 'zimbabwe']\n"
     ]
    }
   ],
   "source": [
    "print(sorted(internet_std.index.tolist()))\n",
    "print(sorted(cost_of_living_std.index.tolist()))\n",
    "print(sorted(climate_std.index.tolist()))\n",
    "print(sorted(safety_std.index.tolist()))\n",
    "print(sorted(healthcare_std.index.tolist()))"
   ]
  },
  {
   "cell_type": "code",
   "execution_count": 6,
   "metadata": {},
   "outputs": [
    {
     "name": "stdout",
     "output_type": "stream",
     "text": [
      "['antigua & barbuda', 'benin', 'burkina faso', 'cabo verde', 'congo', 'dominica', 'el salvador', 'gabon', 'haiti', 'hong kong', 'ivory coast', 'kosovo', 'kyrgyzstan', 'laos', 'liechtenstein', 'macau', 'madagascar', 'mali', 'mauritania', 'moldova', 'myanmar', 'north macedonia', 'palestine', 'russia', 'san marino', 'senegal', 'suriname', 'taiwan', 'tajikistan', 'togo', 'turkey', 'turkmenistan', 'yemen']\n",
      "['andorra', 'aruba', 'bermuda', 'bhutan', 'cabo verde', 'congo', 'curacao', 'dominica', 'eswatini', 'fiji', 'french polynesia', 'gabon', 'gambia', 'gibraltar', 'guinea', 'hong kong', 'isle of man', 'ivory coast', 'jersey', 'kosovo', 'kyrgyzstan', 'laos', 'liberia', 'liechtenstein', 'lithuania', 'madagascar', 'malawi', 'marshall islands', 'martinique', 'mauritania', 'moldova', 'monaco', 'new caledonia', 'niger', 'north macedonia', 'papua new guinea', 'puerto rico', 'reunion', 'russia', 'saint helena', 'saint martin', 'senegal', 'seychelles', 'sudan', 'suriname', 'taiwan', 'tajikistan', 'togo', 'turkey', 'turkmenistan']\n",
      "['andorra', 'antigua & barbuda', 'benin', 'bhutan', 'burkina faso', 'burundi', 'central african republic', 'chad', 'comoros', 'congo', 'djibouti', 'dominica', 'el salvador', 'equatorial guinea', 'eritrea', 'gabon', 'gambia', 'grenada', 'guinea', 'guinea-bissau', 'haiti', 'kiribati', 'laos', 'lesotho', 'liberia', 'liechtenstein', 'lithuania', 'madagascar', 'malawi', 'mali', 'marshall islands', 'mauritania', 'monaco', 'myanmar', 'niger', 'north korea', 'palau', 'papua new guinea', 'saint kitts and nevis', 'saint lucia', 'saint vincent and the grenadines', 'samoa', 'san marino', 'senegal', 'sierra leone', 'solomon islands', 'sudan', 'suriname', 'tajikistan', 'timor-leste', 'togo', 'tonga', 'turkmenistan', 'tuvalu', 'vanuatu', 'yemen']\n",
      "['andorra', 'cayman islands', 'el salvador', 'fiji', 'haiti', 'hong kong', 'isle of man', 'ivory coast', 'kosovo', 'kyrgyzstan', 'lithuania', 'moldova', 'monaco', 'myanmar', 'north korea', 'north macedonia', 'palestine', 'papua new guinea', 'puerto rico', 'russia', 'sudan', 'taiwan', 'turkey', 'united states virgin islands', 'yemen']\n",
      "['aland islands', 'alderney', 'american samoa', 'andorra', 'anguilla', 'antigua & barbuda', 'aruba', 'benin', 'bermuda', 'bhutan', 'bonaire', 'british virgin islands', 'burkina faso', 'burundi', 'cabo verde', 'cayman islands', 'central african republic', 'chad', 'comoros', 'congo', 'cook islands', 'curacao', 'djibouti', 'dominica', 'el salvador', 'equatorial guinea', 'eritrea', 'eswatini', 'falkland islands', 'faroe islands', 'fiji', 'french guiana', 'french polynesia', 'french southern territories', 'gabon', 'gambia', 'gibraltar', 'greenland', 'grenada', 'guadeloupe', 'guam', 'guernsey', 'guinea', 'guinea-bissau', 'haiti', 'hong kong', 'isle of man', 'ivory coast', 'jersey', 'kiribati', 'kosovo', 'kyrgyzstan', 'laos', 'lesotho', 'liberia', 'liechtenstein', 'lithuania', 'macau', 'madagascar', 'malawi', 'mali', 'marshall islands', 'martinique', 'mauritania', 'micronesia', 'moldova', 'monaco', 'montserrat', 'myanmar', 'nauru', 'new caledonia', 'niger', 'niue', 'north korea', 'north macedonia', 'northern mariana islands', 'palau', 'palestine', 'papua new guinea', 'puerto rico', 'reunion', 'russia', 'saint helena', 'saint kitts and nevis', 'saint lucia', 'saint martin', 'saint vincent and the grenadines', 'saint-pierre and miquelon', 'samoa', 'san marino', 'sao tome and principe', 'senegal', 'seychelles', 'sierra leone', 'solomon islands', 'south sudan', 'sudan', 'suriname', 'taiwan', 'tajikistan', 'timor-leste', 'togo', 'tonga', 'turkey', 'turkmenistan', 'turks and caicos islands', 'tuvalu', 'united states virgin islands', 'vanuatu', 'vatican city', 'wallis and futuna', 'western sahara', 'yemen']\n"
     ]
    }
   ],
   "source": [
    "#let's manually check if some countries are not aligned but present in all lists\n",
    "print(sorted(set(internet_std.index.tolist()) - common_countries_std))\n",
    "print(sorted(set(cost_of_living_std.index.tolist()) - common_countries_std))\n",
    "print(sorted(set(climate_std.index.tolist()) - common_countries_std))\n",
    "print(sorted(set(safety_std.index.tolist()) - common_countries_std))\n",
    "print(sorted(set(healthcare_std.index.tolist()) - common_countries_std))\n"
   ]
  },
  {
   "cell_type": "code",
   "execution_count": 7,
   "metadata": {},
   "outputs": [
    {
     "name": "stdout",
     "output_type": "stream",
     "text": [
      "Number of countries lost with the inner join: 113\n",
      "Countries missing from the final dataset: ['aland islands', 'alderney', 'american samoa', 'andorra', 'anguilla', 'antigua & barbuda', 'aruba', 'benin', 'bermuda', 'bhutan', 'bonaire', 'british virgin islands', 'burkina faso', 'burundi', 'cabo verde', 'cayman islands', 'central african republic', 'chad', 'comoros', 'congo', 'cook islands', 'curacao', 'djibouti', 'dominica', 'el salvador', 'equatorial guinea', 'eritrea', 'eswatini', 'falkland islands', 'faroe islands', 'fiji', 'french guiana', 'french polynesia', 'french southern territories', 'gabon', 'gambia', 'gibraltar', 'greenland', 'grenada', 'guadeloupe', 'guam', 'guernsey', 'guinea', 'guinea-bissau', 'haiti', 'hong kong', 'isle of man', 'ivory coast', 'jersey', 'kiribati', 'kosovo', 'kyrgyzstan', 'laos', 'lesotho', 'liberia', 'liechtenstein', 'lithuania', 'macau', 'madagascar', 'malawi', 'mali', 'marshall islands', 'martinique', 'mauritania', 'micronesia', 'moldova', 'monaco', 'montserrat', 'myanmar', 'nauru', 'new caledonia', 'niger', 'niue', 'north korea', 'north macedonia', 'northern mariana islands', 'palau', 'palestine', 'papua new guinea', 'puerto rico', 'reunion', 'russia', 'saint helena', 'saint kitts and nevis', 'saint lucia', 'saint martin', 'saint vincent and the grenadines', 'saint-pierre and miquelon', 'samoa', 'san marino', 'sao tome and principe', 'senegal', 'seychelles', 'sierra leone', 'solomon islands', 'south sudan', 'sudan', 'suriname', 'taiwan', 'tajikistan', 'timor-leste', 'togo', 'tonga', 'turkey', 'turkmenistan', 'turks and caicos islands', 'tuvalu', 'united states virgin islands', 'vanuatu', 'vatican city', 'wallis and futuna', 'western sahara', 'yemen']\n"
     ]
    }
   ],
   "source": [
    "# Calculate the countries that are missing from the inner join\n",
    "all_countries = set(cost_of_living_std.index).union(countries_climate_std, countries_internet_std, countries_safety_std, countries_healthcare_std)\n",
    "missing_countries = all_countries - common_countries_std\n",
    "\n",
    "# Calculate the number of countries lost in the inner join\n",
    "countries_lost_count = len(all_countries) - len(common_countries_std)\n",
    "print(\"Number of countries lost with the inner join:\", countries_lost_count)\n",
    "\n",
    "# Print the missing countries in alphabetical order as a horizontal list\n",
    "print(\"Countries missing from the final dataset:\", sorted(missing_countries))\n"
   ]
  },
  {
   "cell_type": "markdown",
   "metadata": {},
   "source": [
    "Only country that sounds like is an important one and is missing is Russia, because it's missing from the climate dataset\n",
    "\n",
    "other mentions:\n",
    "- laos\n",
    "- lithuania\n",
    "- madagascar\n",
    "- moldova\n",
    "- monaco\n",
    "- north macedonia\n",
    "- palau\n",
    "- puerto rico\n",
    "- taiwan\n",
    "- turkey"
   ]
  },
  {
   "cell_type": "markdown",
   "metadata": {},
   "source": [
    "# Joining the standardized datasets into final"
   ]
  },
  {
   "cell_type": "code",
   "execution_count": 8,
   "metadata": {},
   "outputs": [
    {
     "name": "stdout",
     "output_type": "stream",
     "text": [
      "(122, 5)\n"
     ]
    },
    {
     "data": {
      "text/html": [
       "<div>\n",
       "<style scoped>\n",
       "    .dataframe tbody tr th:only-of-type {\n",
       "        vertical-align: middle;\n",
       "    }\n",
       "\n",
       "    .dataframe tbody tr th {\n",
       "        vertical-align: top;\n",
       "    }\n",
       "\n",
       "    .dataframe thead th {\n",
       "        text-align: right;\n",
       "    }\n",
       "</style>\n",
       "<table border=\"1\" class=\"dataframe\">\n",
       "  <thead>\n",
       "    <tr style=\"text-align: right;\">\n",
       "      <th></th>\n",
       "      <th>average_monthly_cost_$</th>\n",
       "      <th>average_yearly_temperature</th>\n",
       "      <th>internet_speed_mbps</th>\n",
       "      <th>safety_index</th>\n",
       "      <th>Healthcare Index</th>\n",
       "    </tr>\n",
       "  </thead>\n",
       "  <tbody>\n",
       "    <tr>\n",
       "      <th>afghanistan</th>\n",
       "      <td>960.545000</td>\n",
       "      <td>18.1</td>\n",
       "      <td>3.88</td>\n",
       "      <td>24.9</td>\n",
       "      <td>24.24</td>\n",
       "    </tr>\n",
       "    <tr>\n",
       "      <th>albania</th>\n",
       "      <td>518.916429</td>\n",
       "      <td>22.2</td>\n",
       "      <td>81.41</td>\n",
       "      <td>55.3</td>\n",
       "      <td>48.21</td>\n",
       "    </tr>\n",
       "    <tr>\n",
       "      <th>algeria</th>\n",
       "      <td>356.045500</td>\n",
       "      <td>22.8</td>\n",
       "      <td>16.54</td>\n",
       "      <td>47.4</td>\n",
       "      <td>54.43</td>\n",
       "    </tr>\n",
       "    <tr>\n",
       "      <th>angola</th>\n",
       "      <td>740.635000</td>\n",
       "      <td>27.1</td>\n",
       "      <td>22.91</td>\n",
       "      <td>33.7</td>\n",
       "      <td>36.58</td>\n",
       "    </tr>\n",
       "    <tr>\n",
       "      <th>argentina</th>\n",
       "      <td>503.731250</td>\n",
       "      <td>15.1</td>\n",
       "      <td>93.38</td>\n",
       "      <td>36.6</td>\n",
       "      <td>68.00</td>\n",
       "    </tr>\n",
       "  </tbody>\n",
       "</table>\n",
       "</div>"
      ],
      "text/plain": [
       "             average_monthly_cost_$  average_yearly_temperature  \\\n",
       "afghanistan              960.545000                        18.1   \n",
       "albania                  518.916429                        22.2   \n",
       "algeria                  356.045500                        22.8   \n",
       "angola                   740.635000                        27.1   \n",
       "argentina                503.731250                        15.1   \n",
       "\n",
       "             internet_speed_mbps  safety_index  Healthcare Index  \n",
       "afghanistan                 3.88          24.9             24.24  \n",
       "albania                    81.41          55.3             48.21  \n",
       "algeria                    16.54          47.4             54.43  \n",
       "angola                     22.91          33.7             36.58  \n",
       "argentina                  93.38          36.6             68.00  "
      ]
     },
     "execution_count": 8,
     "metadata": {},
     "output_type": "execute_result"
    }
   ],
   "source": [
    "# Merge the standardized datasets on the country index\n",
    "merged_data = cost_of_living_std.join(climate_std, how='inner', rsuffix='_climate') \\\n",
    "                                  .join(internet_std, how='inner', rsuffix='_internet') \\\n",
    "                                  .join(safety_std, how='inner', rsuffix='_safety') \\\n",
    "                                  .join(healthcare_std, how='inner', rsuffix='_healthcare')\n",
    "\n",
    "# Display the first few rows of the merged dataframe\n",
    "print(merged_data.shape)\n",
    "\n",
    "merged_data.head()"
   ]
  },
  {
   "cell_type": "code",
   "execution_count": 9,
   "metadata": {},
   "outputs": [
    {
     "data": {
      "text/plain": [
       "average_monthly_cost_$        0\n",
       "average_yearly_temperature    0\n",
       "internet_speed_mbps           0\n",
       "safety_index                  0\n",
       "Healthcare Index              0\n",
       "dtype: int64"
      ]
     },
     "execution_count": 9,
     "metadata": {},
     "output_type": "execute_result"
    }
   ],
   "source": [
    "#count nulls in merged_data just to double check\n",
    "merged_data.isnull().sum()"
   ]
  },
  {
   "cell_type": "code",
   "execution_count": 10,
   "metadata": {},
   "outputs": [],
   "source": [
    "merged_data.to_csv(\"../raw_data/merged_country_level/merged_data.csv\")"
   ]
  },
  {
   "cell_type": "markdown",
   "metadata": {},
   "source": [
    "# exploration"
   ]
  },
  {
   "cell_type": "code",
   "execution_count": 12,
   "metadata": {},
   "outputs": [
    {
     "data": {
      "text/html": [
       "<div>\n",
       "<style scoped>\n",
       "    .dataframe tbody tr th:only-of-type {\n",
       "        vertical-align: middle;\n",
       "    }\n",
       "\n",
       "    .dataframe tbody tr th {\n",
       "        vertical-align: top;\n",
       "    }\n",
       "\n",
       "    .dataframe thead th {\n",
       "        text-align: right;\n",
       "    }\n",
       "</style>\n",
       "<table border=\"1\" class=\"dataframe\">\n",
       "  <thead>\n",
       "    <tr style=\"text-align: right;\">\n",
       "      <th></th>\n",
       "      <th>average_monthly_cost_$</th>\n",
       "      <th>average_yearly_temperature</th>\n",
       "      <th>internet_speed_mbps</th>\n",
       "      <th>safety_index</th>\n",
       "      <th>Healthcare Index</th>\n",
       "    </tr>\n",
       "  </thead>\n",
       "  <tbody>\n",
       "    <tr>\n",
       "      <th>count</th>\n",
       "      <td>122.000000</td>\n",
       "      <td>122.000000</td>\n",
       "      <td>122.000000</td>\n",
       "      <td>122.000000</td>\n",
       "      <td>122.000000</td>\n",
       "    </tr>\n",
       "    <tr>\n",
       "      <th>mean</th>\n",
       "      <td>963.809623</td>\n",
       "      <td>20.764754</td>\n",
       "      <td>106.713689</td>\n",
       "      <td>54.988525</td>\n",
       "      <td>60.356230</td>\n",
       "    </tr>\n",
       "    <tr>\n",
       "      <th>std</th>\n",
       "      <td>579.883758</td>\n",
       "      <td>7.062635</td>\n",
       "      <td>80.714670</td>\n",
       "      <td>14.727571</td>\n",
       "      <td>11.906674</td>\n",
       "    </tr>\n",
       "    <tr>\n",
       "      <th>min</th>\n",
       "      <td>227.355000</td>\n",
       "      <td>1.200000</td>\n",
       "      <td>3.230000</td>\n",
       "      <td>19.300000</td>\n",
       "      <td>24.240000</td>\n",
       "    </tr>\n",
       "    <tr>\n",
       "      <th>25%</th>\n",
       "      <td>565.497549</td>\n",
       "      <td>14.650000</td>\n",
       "      <td>45.887500</td>\n",
       "      <td>45.900000</td>\n",
       "      <td>52.000000</td>\n",
       "    </tr>\n",
       "    <tr>\n",
       "      <th>50%</th>\n",
       "      <td>786.219205</td>\n",
       "      <td>21.700000</td>\n",
       "      <td>86.255000</td>\n",
       "      <td>54.150000</td>\n",
       "      <td>61.220000</td>\n",
       "    </tr>\n",
       "    <tr>\n",
       "      <th>75%</th>\n",
       "      <td>1247.808385</td>\n",
       "      <td>26.975000</td>\n",
       "      <td>164.397500</td>\n",
       "      <td>67.150000</td>\n",
       "      <td>68.767500</td>\n",
       "    </tr>\n",
       "    <tr>\n",
       "      <th>max</th>\n",
       "      <td>3434.575000</td>\n",
       "      <td>32.100000</td>\n",
       "      <td>345.330000</td>\n",
       "      <td>84.500000</td>\n",
       "      <td>82.780000</td>\n",
       "    </tr>\n",
       "  </tbody>\n",
       "</table>\n",
       "</div>"
      ],
      "text/plain": [
       "       average_monthly_cost_$  average_yearly_temperature  \\\n",
       "count              122.000000                  122.000000   \n",
       "mean               963.809623                   20.764754   \n",
       "std                579.883758                    7.062635   \n",
       "min                227.355000                    1.200000   \n",
       "25%                565.497549                   14.650000   \n",
       "50%                786.219205                   21.700000   \n",
       "75%               1247.808385                   26.975000   \n",
       "max               3434.575000                   32.100000   \n",
       "\n",
       "       internet_speed_mbps  safety_index  Healthcare Index  \n",
       "count           122.000000    122.000000        122.000000  \n",
       "mean            106.713689     54.988525         60.356230  \n",
       "std              80.714670     14.727571         11.906674  \n",
       "min               3.230000     19.300000         24.240000  \n",
       "25%              45.887500     45.900000         52.000000  \n",
       "50%              86.255000     54.150000         61.220000  \n",
       "75%             164.397500     67.150000         68.767500  \n",
       "max             345.330000     84.500000         82.780000  "
      ]
     },
     "execution_count": 12,
     "metadata": {},
     "output_type": "execute_result"
    }
   ],
   "source": [
    "merged_data.describe()"
   ]
  },
  {
   "cell_type": "code",
   "execution_count": 18,
   "metadata": {},
   "outputs": [
    {
     "data": {
      "text/plain": [
       "<Axes: ylabel='average_monthly_cost_$'>"
      ]
     },
     "execution_count": 18,
     "metadata": {},
     "output_type": "execute_result"
    },
    {
     "data": {
      "image/png": "[encoded data removed]",
      "text/plain": [
       "<Figure size 640x480 with 1 Axes>"
      ]
     },
     "metadata": {},
     "output_type": "display_data"
    }
   ],
   "source": [
    "import seaborn as sns\n",
    "sns.boxplot(merged_data[\"average_monthly_cost_$\"])\n",
    "\n",
    "#create a "
   ]
  },
  {
   "cell_type": "markdown",
   "metadata": {},
   "source": []
  }
 ],
 "metadata": {
  "kernelspec": {
   "display_name": "project_ics",
   "language": "python",
   "name": "python3"
  },
  "language_info": {
   "codemirror_mode": {
    "name": "ipython",
    "version": 3
   },
   "file_extension": ".py",
   "mimetype": "text/x-python",
   "name": "python",
   "nbconvert_exporter": "python",
   "pygments_lexer": "ipython3",
   "version": "3.10.6"
  }
 },
 "nbformat": 4,
 "nbformat_minor": 2
}
